{
 "cells": [
  {
   "cell_type": "markdown",
   "id": "d9bcdbd2-3401-41ad-a83f-830e9346e607",
   "metadata": {
    "id": "d9bcdbd2-3401-41ad-a83f-830e9346e607"
   },
   "source": [
    "# Applied Machine Learning Homework 4\n",
    "Due 12/15/21 11:59PM EST"
   ]
  },
  {
   "cell_type": "markdown",
   "id": "70df26be-5638-4b0d-a252-4437eb76aa46",
   "metadata": {
    "id": "70df26be-5638-4b0d-a252-4437eb76aa46"
   },
   "source": [
    "### Q1: Natural Language Processing"
   ]
  },
  {
   "cell_type": "markdown",
   "id": "8da8daa7-f0cf-47f8-bc5f-6eb13573891c",
   "metadata": {
    "id": "8da8daa7-f0cf-47f8-bc5f-6eb13573891c"
   },
   "source": [
    "We will train a supervised training model to predict if a tweet has a positive or negative sentiment."
   ]
  },
  {
   "cell_type": "markdown",
   "id": "2e0d9a19-25ea-4490-b0e8-7909bcdc3d9d",
   "metadata": {
    "id": "2e0d9a19-25ea-4490-b0e8-7909bcdc3d9d"
   },
   "source": [
    "#### Dataset loading & dev/test splits"
   ]
  },
  {
   "cell_type": "markdown",
   "id": "fafa37c4-c8fc-4697-9bbe-11539d710bf7",
   "metadata": {
    "id": "fafa37c4-c8fc-4697-9bbe-11539d710bf7"
   },
   "source": [
    "1.1) Load the twitter dataset from NLTK library"
   ]
  },
  {
   "cell_type": "code",
   "execution_count": 79,
   "id": "5f4ce405-237b-42d2-9c81-25ff28deaf4a",
   "metadata": {
    "id": "5f4ce405-237b-42d2-9c81-25ff28deaf4a",
    "outputId": "1ddd96c2-a8e1-43dd-f17e-f5457fbc3bd9"
   },
   "outputs": [
    {
     "name": "stderr",
     "output_type": "stream",
     "text": [
      "[nltk_data] Downloading package twitter_samples to\n",
      "[nltk_data]     /Users/Griffin/nltk_data...\n",
      "[nltk_data]   Package twitter_samples is already up-to-date!\n"
     ]
    }
   ],
   "source": [
    "import nltk\n",
    "nltk.download('twitter_samples')\n",
    "from nltk.corpus import twitter_samples "
   ]
  },
  {
   "cell_type": "markdown",
   "id": "c41d62ce-3c78-4b6c-9238-111d990d170f",
   "metadata": {
    "id": "c41d62ce-3c78-4b6c-9238-111d990d170f"
   },
   "source": [
    "1.2) Load the positive & negative tweets"
   ]
  },
  {
   "cell_type": "code",
   "execution_count": 80,
   "id": "b92fb408-f72a-4c23-acd8-7c944a52edd3",
   "metadata": {
    "id": "b92fb408-f72a-4c23-acd8-7c944a52edd3"
   },
   "outputs": [],
   "source": [
    "all_positive_tweets = twitter_samples.strings('positive_tweets.json')\n",
    "all_negative_tweets = twitter_samples.strings('negative_tweets.json')"
   ]
  },
  {
   "cell_type": "markdown",
   "id": "12eae071-fd8a-4a46-9958-0525c635fd88",
   "metadata": {
    "id": "12eae071-fd8a-4a46-9958-0525c635fd88"
   },
   "source": [
    "1.3) Create a development & test split (80/20 ratio):"
   ]
  },
  {
   "cell_type": "code",
   "execution_count": 81,
   "id": "0f3673db-d7a8-470b-a3d3-f4522cd359b8",
   "metadata": {
    "id": "0f3673db-d7a8-470b-a3d3-f4522cd359b8"
   },
   "outputs": [],
   "source": [
    "import numpy as np\n",
    "import pandas as pd\n",
    "from sklearn.model_selection import train_test_split\n",
    "\n",
    "neg_tweet_df = pd.DataFrame(all_negative_tweets, columns=['tweet'])\n",
    "pos_tweet_df = pd.DataFrame(all_positive_tweets, columns=['tweet'])\n",
    "pos_tweet_df['sentiment'] = 1\n",
    "neg_tweet_df['sentiment'] = 0\n",
    "\n",
    "  \n",
    "result = pos_tweet_df.append(neg_tweet_df)\n",
    "\n"
   ]
  },
  {
   "cell_type": "markdown",
   "id": "32b23398-e80e-4624-b89e-c02fabfd3f8d",
   "metadata": {
    "id": "32b23398-e80e-4624-b89e-c02fabfd3f8d"
   },
   "source": [
    "#### Data preprocessing"
   ]
  },
  {
   "cell_type": "markdown",
   "id": "abe84444-3839-42f6-99e6-33126f10df9b",
   "metadata": {
    "id": "abe84444-3839-42f6-99e6-33126f10df9b"
   },
   "source": [
    "We will do some data preprocessing before we tokenize the data. We will remove `#` symbol, hyperlinks, stop words & punctuations from the data. You can use the `re` package in python to find and replace these strings. "
   ]
  },
  {
   "cell_type": "markdown",
   "id": "f89d9d69-1640-4583-a7b7-7ec04ccf3310",
   "metadata": {
    "id": "f89d9d69-1640-4583-a7b7-7ec04ccf3310"
   },
   "source": [
    "1.4) Replace the `#` symbol with '' in every tweet"
   ]
  },
  {
   "cell_type": "code",
   "execution_count": 82,
   "id": "5db4dd6d-e775-49d3-96e1-57620c042d46",
   "metadata": {
    "id": "5db4dd6d-e775-49d3-96e1-57620c042d46"
   },
   "outputs": [],
   "source": [
    "import re\n",
    "result['tweet'].replace(to_replace=\"\\#\", value=r\"''\", regex=True, inplace=True)"
   ]
  },
  {
   "cell_type": "markdown",
   "id": "24c4caa8-d71d-46a8-8859-a8e85c56acfe",
   "metadata": {
    "id": "24c4caa8-d71d-46a8-8859-a8e85c56acfe"
   },
   "source": [
    "1.5) Replace hyperlinks with '' in every tweet"
   ]
  },
  {
   "cell_type": "code",
   "execution_count": 83,
   "id": "ff5a7411-df49-427b-adef-5e8e63224db0",
   "metadata": {
    "id": "ff5a7411-df49-427b-adef-5e8e63224db0"
   },
   "outputs": [
    {
     "name": "stderr",
     "output_type": "stream",
     "text": [
      "<ipython-input-83-11b51710c166>:4: FutureWarning: The default value of regex will change from True to False in a future version.\n",
      "  result['tweet'] = result['tweet'].str.replace('http[s]?://(?:[a-zA-Z]|[0-9]|[$-_@.&+]|[!*\\(\\),]|(?:%[0-9a-fA-F][0-9a-fA-F]))+', '')\n"
     ]
    }
   ],
   "source": [
    "import re\n",
    "result['tweet'].replace(to_replace=\"\\#\", value=r\"\", regex=True, inplace=True)\n",
    "\n",
    "result['tweet'] = result['tweet'].str.replace('http[s]?://(?:[a-zA-Z]|[0-9]|[$-_@.&+]|[!*\\(\\),]|(?:%[0-9a-fA-F][0-9a-fA-F]))+', '')\n"
   ]
  },
  {
   "cell_type": "markdown",
   "id": "492ae463-b611-4292-9ad2-b778856bf8bc",
   "metadata": {
    "id": "492ae463-b611-4292-9ad2-b778856bf8bc"
   },
   "source": [
    "1.6) Remove all stop words"
   ]
  },
  {
   "cell_type": "code",
   "execution_count": 84,
   "id": "961d73fd-a662-46f2-85a2-83bf6b978189",
   "metadata": {
    "id": "961d73fd-a662-46f2-85a2-83bf6b978189"
   },
   "outputs": [
    {
     "name": "stderr",
     "output_type": "stream",
     "text": [
      "[nltk_data] Downloading package stopwords to\n",
      "[nltk_data]     /Users/Griffin/nltk_data...\n",
      "[nltk_data]   Package stopwords is already up-to-date!\n"
     ]
    }
   ],
   "source": [
    "from nltk.corpus import stopwords\n",
    "nltk.download('stopwords')\n",
    "stop = stopwords.words('english')\n",
    "result['tweet_without_stopwords'] = result['tweet'].apply(lambda x: ' '.join([word for word in x.split() if word not in (stop)]))\n"
   ]
  },
  {
   "cell_type": "markdown",
   "id": "169bf8ad-f7ba-4e67-a1a0-92fcdd193ab9",
   "metadata": {
    "id": "169bf8ad-f7ba-4e67-a1a0-92fcdd193ab9"
   },
   "source": [
    "1.7) Remove all punctuations"
   ]
  },
  {
   "cell_type": "code",
   "execution_count": 85,
   "id": "774743e0-8cf0-4dbb-a6fa-006ff076bb9e",
   "metadata": {
    "id": "774743e0-8cf0-4dbb-a6fa-006ff076bb9e"
   },
   "outputs": [
    {
     "name": "stderr",
     "output_type": "stream",
     "text": [
      "<ipython-input-85-e390b2b5c887>:2: FutureWarning: The default value of regex will change from True to False in a future version.\n",
      "  result[\"tweet_without_punct\"] = result['tweet_without_stopwords'].str.replace('[^\\w\\s]','')\n"
     ]
    }
   ],
   "source": [
    "result['tweet_without_stopwords'] = result['tweet'].apply(lambda x: ' '.join([word for word in x.split() if word not in (stop)]))\n",
    "result[\"tweet_without_punct\"] = result['tweet_without_stopwords'].str.replace('[^\\w\\s]','')\n"
   ]
  },
  {
   "cell_type": "markdown",
   "id": "b2f1af18-0c07-4ffb-994e-daead4740a53",
   "metadata": {
    "id": "b2f1af18-0c07-4ffb-994e-daead4740a53"
   },
   "source": [
    "1.8) Apply stemming on the development & test datasets using Porter algorithm"
   ]
  },
  {
   "cell_type": "code",
   "execution_count": 86,
   "id": "c84a52f6-a62a-4033-8d1d-239ff6904248",
   "metadata": {
    "id": "c84a52f6-a62a-4033-8d1d-239ff6904248"
   },
   "outputs": [],
   "source": [
    "from nltk.stem import PorterStemmer\n",
    "from nltk.tokenize import sent_tokenize, word_tokenize\n",
    "\n",
    "ps = PorterStemmer()\n",
    "\n",
    "def stem_sentences(sentence):\n",
    "    tokens = sentence.split()\n",
    "    stemmed_tokens = [ps.stem(token) for token in tokens]\n",
    "    return ' '.join(stemmed_tokens)\n",
    "\n",
    "result['tweet_stemmed'] = result['tweet_without_punct'].apply(stem_sentences)\n"
   ]
  },
  {
   "cell_type": "code",
   "execution_count": 87,
   "id": "cf3e0ab9",
   "metadata": {},
   "outputs": [
    {
     "data": {
      "text/plain": [
       "2389    rafaelallmark ive support sinc start alway ign...\n",
       "4275    kirkherbstreit braxton gone pro i feel bad him...\n",
       "2995    williamhc3 hi would like impastel concert let ...\n",
       "316                           boybandsftcara sure sorri x\n",
       "356     good luck lizaminnelli upcom uk appear garyjho...\n",
       "Name: tweet_stemmed, dtype: object"
      ]
     },
     "execution_count": 87,
     "metadata": {},
     "output_type": "execute_result"
    }
   ],
   "source": [
    "#splitting training/test\n",
    "X_dev, X_test, y_dev, y_test = train_test_split(result['tweet_stemmed'], result['sentiment'], test_size=0.2, random_state=0)\n",
    "\n",
    "X_dev.head()\n"
   ]
  },
  {
   "cell_type": "markdown",
   "id": "687e23ef-dafd-4183-b2f1-86089e281dd8",
   "metadata": {
    "id": "687e23ef-dafd-4183-b2f1-86089e281dd8"
   },
   "source": [
    "#### Model training"
   ]
  },
  {
   "cell_type": "markdown",
   "id": "0c40fa44-01ad-4788-98b9-9c8f0c1252ef",
   "metadata": {
    "id": "0c40fa44-01ad-4788-98b9-9c8f0c1252ef"
   },
   "source": [
    "1.9) Create bag of words features for each tweet in the development dataset"
   ]
  },
  {
   "cell_type": "code",
   "execution_count": 88,
   "id": "c17c6b99-9dfb-4d30-9e03-d596a9da880a",
   "metadata": {
    "id": "c17c6b99-9dfb-4d30-9e03-d596a9da880a"
   },
   "outputs": [],
   "source": [
    "from sklearn.feature_extraction.text import CountVectorizer\n",
    "\n",
    "vectorizer = CountVectorizer()\n",
    "\n",
    "dev_x = vectorizer.fit_transform(X_dev)\n",
    "test_x = vectorizer.transform(X_test)\n",
    "\n"
   ]
  },
  {
   "cell_type": "markdown",
   "id": "4baf65cd-019b-4ff4-b93c-3ca8cfffca8e",
   "metadata": {
    "id": "4baf65cd-019b-4ff4-b93c-3ca8cfffca8e"
   },
   "source": [
    "1.10) Train a supervised learning model of choice on the development dataset"
   ]
  },
  {
   "cell_type": "code",
   "execution_count": 89,
   "id": "3433a6b0-408d-462e-9072-3495b21bc97b",
   "metadata": {
    "id": "3433a6b0-408d-462e-9072-3495b21bc97b"
   },
   "outputs": [
    {
     "data": {
      "text/plain": [
       "LogisticRegressionCV(max_iter=1000)"
      ]
     },
     "execution_count": 89,
     "metadata": {},
     "output_type": "execute_result"
    }
   ],
   "source": [
    "from sklearn.linear_model import LogisticRegressionCV\n",
    "\n",
    "model1 = LogisticRegressionCV(max_iter=1000)\n",
    "\n",
    "model1.fit(dev_x, y_dev)\n",
    "\n"
   ]
  },
  {
   "cell_type": "code",
   "execution_count": 90,
   "id": "455f1bde",
   "metadata": {},
   "outputs": [
    {
     "name": "stdout",
     "output_type": "stream",
     "text": [
      "0.75\n"
     ]
    }
   ],
   "source": [
    "score = model1.score(test_x, y_test)\n",
    "print(score)"
   ]
  },
  {
   "cell_type": "markdown",
   "id": "1c16c6f6-7ab2-4d7a-b9dc-098a72381340",
   "metadata": {
    "id": "1c16c6f6-7ab2-4d7a-b9dc-098a72381340"
   },
   "source": [
    "1.11) Create TF-IDF features for each tweet in the development dataset"
   ]
  },
  {
   "cell_type": "code",
   "execution_count": 91,
   "id": "7b417843-ffc4-4614-b2ef-964f8ec3e510",
   "metadata": {
    "id": "7b417843-ffc4-4614-b2ef-964f8ec3e510"
   },
   "outputs": [],
   "source": [
    "from sklearn.feature_extraction.text import TfidfVectorizer\n",
    "tfIdfVectorizer=TfidfVectorizer(use_idf=True)\n",
    "\n",
    "tfIdf_x_train = tfIdfVectorizer.fit_transform(X_dev)\n",
    "tfIdf_x_test = tfIdfVectorizer.transform(X_test)"
   ]
  },
  {
   "cell_type": "markdown",
   "id": "ea3c9776-aad9-4eda-b3c2-d9f6b3e52427",
   "metadata": {
    "id": "ea3c9776-aad9-4eda-b3c2-d9f6b3e52427"
   },
   "source": [
    "1.12) Train the same supervised learning algorithm on the development dataset with TF-IDF features"
   ]
  },
  {
   "cell_type": "code",
   "execution_count": 92,
   "id": "b8c7fe8b-61de-4daa-a338-74295a4902ce",
   "metadata": {
    "id": "b8c7fe8b-61de-4daa-a338-74295a4902ce"
   },
   "outputs": [
    {
     "data": {
      "text/plain": [
       "LogisticRegressionCV(max_iter=1000)"
      ]
     },
     "execution_count": 92,
     "metadata": {},
     "output_type": "execute_result"
    }
   ],
   "source": [
    "model2 = LogisticRegressionCV(max_iter=1000)\n",
    "\n",
    "model2.fit(tfIdf_x_train, y_dev)\n"
   ]
  },
  {
   "cell_type": "markdown",
   "id": "ab0129e7-a0ea-473e-9ad1-667b44a13a92",
   "metadata": {
    "id": "ab0129e7-a0ea-473e-9ad1-667b44a13a92"
   },
   "source": [
    "1.13) Compare the performance of the two models on the test dataset"
   ]
  },
  {
   "cell_type": "code",
   "execution_count": 93,
   "id": "a64ca176-dab8-4965-a85d-dcf9dc013717",
   "metadata": {
    "id": "a64ca176-dab8-4965-a85d-dcf9dc013717"
   },
   "outputs": [
    {
     "name": "stdout",
     "output_type": "stream",
     "text": [
      "0.7595\n"
     ]
    }
   ],
   "source": [
    "score = model2.score(tfIdf_x_test, y_test)\n",
    "print(score)"
   ]
  },
  {
   "cell_type": "code",
   "execution_count": null,
   "id": "bfc160f4",
   "metadata": {},
   "outputs": [],
   "source": [
    "#TF-IDF scores have an accuracy of 75.95% and the non-tf-idf has a 75% accuracy, so the TFIDF slightly outperforms \n",
    "#the first model"
   ]
  }
 ],
 "metadata": {
  "colab": {
   "name": "HW4-NLP.ipynb",
   "provenance": []
  },
  "kernelspec": {
   "display_name": "Python 3",
   "language": "python",
   "name": "python3"
  },
  "language_info": {
   "codemirror_mode": {
    "name": "ipython",
    "version": 3
   },
   "file_extension": ".py",
   "mimetype": "text/x-python",
   "name": "python",
   "nbconvert_exporter": "python",
   "pygments_lexer": "ipython3",
   "version": "3.8.8"
  }
 },
 "nbformat": 4,
 "nbformat_minor": 5
}
