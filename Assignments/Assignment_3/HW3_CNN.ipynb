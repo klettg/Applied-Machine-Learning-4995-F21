{
 "cells": [
  {
   "cell_type": "markdown",
   "id": "d9bcdbd2-3401-41ad-a83f-830e9346e607",
   "metadata": {},
   "source": [
    "# Homework 3: Convolutional Neural Networks\n",
    "\n",
    "Due Wednesday 11/24 at 11:59 pm EST"
   ]
  },
  {
   "cell_type": "markdown",
   "id": "8da8daa7-f0cf-47f8-bc5f-6eb13573891c",
   "metadata": {},
   "source": [
    "Download the dataset `cats-notcats` from github (given as a part of the assignment). This dataset has images of cats and images that are not cats (in separate folders). The task is to train a convolutional neural network (CNN) to build a classifier that can classify a new image as either `cat` or `not cat`"
   ]
  },
  {
   "cell_type": "markdown",
   "id": "fafa37c4-c8fc-4697-9bbe-11539d710bf7",
   "metadata": {},
   "source": [
    "1. Load the dataset and create three stratified splits - train/validation/test in the ratio of 70/10/20. "
   ]
  },
  {
   "cell_type": "code",
   "execution_count": 4,
   "id": "44c960f9-2bf7-4187-8b98-a5646b2ef64a",
   "metadata": {},
   "outputs": [
    {
     "name": "stdout",
     "output_type": "stream",
     "text": [
      "Found 5668 images belonging to 2 classes.\n",
      "Found 1133 images belonging to 2 classes.\n"
     ]
    }
   ],
   "source": [
    "import tensorflow as tf\n",
    "from tensorflow import keras\n",
    "\n",
    "batch_size=32\n",
    "image_generator = tf.keras.preprocessing.image.ImageDataGenerator(validation_split=0.2)\n",
    "all_data_batches = image_generator.flow_from_directory(directory='/Users/Griffin/repos/assignment-3-klettg/data/cats-notcats', \n",
    "                                                       class_mode='binary', target_size=(256, 256), batch_size=batch_size)\n",
    "\n",
    "val_gen = image_generator.flow_from_directory(directory='/Users/Griffin/repos/assignment-3-klettg/data/cats-notcats', subset='validation',\n",
    "                                              class_mode='binary', target_size=(256, 256), batch_size=batch_size)\n",
    "\n",
    "\n",
    "\n",
    "\n",
    "#print(batches)"
   ]
  },
  {
   "cell_type": "code",
   "execution_count": 5,
   "id": "8ab59e14",
   "metadata": {},
   "outputs": [],
   "source": [
    "#for batch in all_data_batches:\n",
    "#    print(batch)"
   ]
  },
  {
   "cell_type": "markdown",
   "id": "e29a4db3-129d-4863-b470-024003f75e04",
   "metadata": {},
   "source": [
    "2. Create a CNN that has the following hidden layers:\n",
    "\n",
    "    a. 2D convolution layer with a 3x3 kernel size, has 128 filters, stride of 1 and padded to yield the same size as input, followed by a ReLU activation layer\n",
    "    \n",
    "    b. Max pooling layer of 2x2\n",
    "    \n",
    "    c. Dense layer with 128 dimensions and ReLU as the activation layer"
   ]
  },
  {
   "cell_type": "code",
   "execution_count": 6,
   "id": "7b417843-ffc4-4614-b2ef-964f8ec3e510",
   "metadata": {},
   "outputs": [],
   "source": [
    "    model = tf.keras.Sequential(\n",
    "        [\n",
    "            tf.keras.layers.Conv2D(128, kernel_size=(3,3), activation='relu', padding='same', input_shape=(256,256,3)),\n",
    "            tf.keras.layers.MaxPooling2D(\n",
    "                pool_size=(2,2)),\n",
    "            tf.keras.layers.Flatten(),\n",
    "            tf.keras.layers.Dense(128, activation=\"relu\", name=\"c\"),\n",
    "        ]\n",
    "    )\n",
    "model.compile(loss='binary_crossentropy',\n",
    "              optimizer='rmsprop',\n",
    "              metrics=['accuracy'])"
   ]
  },
  {
   "cell_type": "markdown",
   "id": "fb56c38b-a22b-4db7-bdad-ef70e0fb1b1d",
   "metadata": {},
   "source": [
    "3. Train the classifier for 20 epochs with 100 steps per epoch. Also use the validation data during training the estimator."
   ]
  },
  {
   "cell_type": "code",
   "execution_count": 7,
   "id": "2fd6516a-1093-40a0-bb1a-bb64d909a93d",
   "metadata": {},
   "outputs": [
    {
     "name": "stderr",
     "output_type": "stream",
     "text": [
      "<ipython-input-7-13f639a6401b>:1: UserWarning: `Model.fit_generator` is deprecated and will be removed in a future version. Please use `Model.fit`, which supports generators.\n",
      "  model.fit_generator(all_data_batches, epochs=20, steps_per_epoch=100, validation_data=val_gen)\n"
     ]
    },
    {
     "ename": "ValueError",
     "evalue": "Exception encountered when calling layer \"sequential\" (type Sequential).\n\nInput 0 of layer \"conv2d\" is incompatible with the layer: expected min_ndim=4, found ndim=2. Full shape received: (16, 196608)\n\nCall arguments received:\n  • inputs=tf.Tensor(shape=(16, 256, 256, 3), dtype=float32)\n  • training=False\n  • mask=None",
     "output_type": "error",
     "traceback": [
      "\u001b[0;31m---------------------------------------------------------------------------\u001b[0m",
      "\u001b[0;31mValueError\u001b[0m                                Traceback (most recent call last)",
      "\u001b[0;32m<ipython-input-7-13f639a6401b>\u001b[0m in \u001b[0;36m<module>\u001b[0;34m\u001b[0m\n\u001b[0;32m----> 1\u001b[0;31m \u001b[0mmodel\u001b[0m\u001b[0;34m.\u001b[0m\u001b[0mfit_generator\u001b[0m\u001b[0;34m(\u001b[0m\u001b[0mall_data_batches\u001b[0m\u001b[0;34m,\u001b[0m \u001b[0mepochs\u001b[0m\u001b[0;34m=\u001b[0m\u001b[0;36m20\u001b[0m\u001b[0;34m,\u001b[0m \u001b[0msteps_per_epoch\u001b[0m\u001b[0;34m=\u001b[0m\u001b[0;36m100\u001b[0m\u001b[0;34m,\u001b[0m \u001b[0mvalidation_data\u001b[0m\u001b[0;34m=\u001b[0m\u001b[0mval_gen\u001b[0m\u001b[0;34m)\u001b[0m\u001b[0;34m\u001b[0m\u001b[0;34m\u001b[0m\u001b[0m\n\u001b[0m\u001b[1;32m      2\u001b[0m \u001b[0mmodel\u001b[0m\u001b[0;34m.\u001b[0m\u001b[0msave_weights\u001b[0m\u001b[0;34m(\u001b[0m\u001b[0mfirst_try\u001b[0m\u001b[0;34m.\u001b[0m\u001b[0mh5\u001b[0m\u001b[0;34m)\u001b[0m\u001b[0;34m\u001b[0m\u001b[0;34m\u001b[0m\u001b[0m\n",
      "\u001b[0;32m~/opt/anaconda3/lib/python3.8/site-packages/keras/engine/training.py\u001b[0m in \u001b[0;36mfit_generator\u001b[0;34m(self, generator, steps_per_epoch, epochs, verbose, callbacks, validation_data, validation_steps, validation_freq, class_weight, max_queue_size, workers, use_multiprocessing, shuffle, initial_epoch)\u001b[0m\n\u001b[1;32m   2014\u001b[0m         \u001b[0;34m'Please use `Model.fit`, which supports generators.'\u001b[0m\u001b[0;34m,\u001b[0m\u001b[0;34m\u001b[0m\u001b[0;34m\u001b[0m\u001b[0m\n\u001b[1;32m   2015\u001b[0m         stacklevel=2)\n\u001b[0;32m-> 2016\u001b[0;31m     return self.fit(\n\u001b[0m\u001b[1;32m   2017\u001b[0m         \u001b[0mgenerator\u001b[0m\u001b[0;34m,\u001b[0m\u001b[0;34m\u001b[0m\u001b[0;34m\u001b[0m\u001b[0m\n\u001b[1;32m   2018\u001b[0m         \u001b[0msteps_per_epoch\u001b[0m\u001b[0;34m=\u001b[0m\u001b[0msteps_per_epoch\u001b[0m\u001b[0;34m,\u001b[0m\u001b[0;34m\u001b[0m\u001b[0;34m\u001b[0m\u001b[0m\n",
      "\u001b[0;32m~/opt/anaconda3/lib/python3.8/site-packages/keras/utils/traceback_utils.py\u001b[0m in \u001b[0;36merror_handler\u001b[0;34m(*args, **kwargs)\u001b[0m\n\u001b[1;32m     65\u001b[0m     \u001b[0;32mexcept\u001b[0m \u001b[0mException\u001b[0m \u001b[0;32mas\u001b[0m \u001b[0me\u001b[0m\u001b[0;34m:\u001b[0m  \u001b[0;31m# pylint: disable=broad-except\u001b[0m\u001b[0;34m\u001b[0m\u001b[0;34m\u001b[0m\u001b[0m\n\u001b[1;32m     66\u001b[0m       \u001b[0mfiltered_tb\u001b[0m \u001b[0;34m=\u001b[0m \u001b[0m_process_traceback_frames\u001b[0m\u001b[0;34m(\u001b[0m\u001b[0me\u001b[0m\u001b[0;34m.\u001b[0m\u001b[0m__traceback__\u001b[0m\u001b[0;34m)\u001b[0m\u001b[0;34m\u001b[0m\u001b[0;34m\u001b[0m\u001b[0m\n\u001b[0;32m---> 67\u001b[0;31m       \u001b[0;32mraise\u001b[0m \u001b[0me\u001b[0m\u001b[0;34m.\u001b[0m\u001b[0mwith_traceback\u001b[0m\u001b[0;34m(\u001b[0m\u001b[0mfiltered_tb\u001b[0m\u001b[0;34m)\u001b[0m \u001b[0;32mfrom\u001b[0m \u001b[0;32mNone\u001b[0m\u001b[0;34m\u001b[0m\u001b[0;34m\u001b[0m\u001b[0m\n\u001b[0m\u001b[1;32m     68\u001b[0m     \u001b[0;32mfinally\u001b[0m\u001b[0;34m:\u001b[0m\u001b[0;34m\u001b[0m\u001b[0;34m\u001b[0m\u001b[0m\n\u001b[1;32m     69\u001b[0m       \u001b[0;32mdel\u001b[0m \u001b[0mfiltered_tb\u001b[0m\u001b[0;34m\u001b[0m\u001b[0;34m\u001b[0m\u001b[0m\n",
      "\u001b[0;32m~/opt/anaconda3/lib/python3.8/site-packages/keras/engine/input_spec.py\u001b[0m in \u001b[0;36massert_input_compatibility\u001b[0;34m(input_spec, inputs, layer_name)\u001b[0m\n\u001b[1;32m    225\u001b[0m       \u001b[0mndim\u001b[0m \u001b[0;34m=\u001b[0m \u001b[0mx\u001b[0m\u001b[0;34m.\u001b[0m\u001b[0mshape\u001b[0m\u001b[0;34m.\u001b[0m\u001b[0mrank\u001b[0m\u001b[0;34m\u001b[0m\u001b[0;34m\u001b[0m\u001b[0m\n\u001b[1;32m    226\u001b[0m       \u001b[0;32mif\u001b[0m \u001b[0mndim\u001b[0m \u001b[0;32mis\u001b[0m \u001b[0;32mnot\u001b[0m \u001b[0;32mNone\u001b[0m \u001b[0;32mand\u001b[0m \u001b[0mndim\u001b[0m \u001b[0;34m<\u001b[0m \u001b[0mspec\u001b[0m\u001b[0;34m.\u001b[0m\u001b[0mmin_ndim\u001b[0m\u001b[0;34m:\u001b[0m\u001b[0;34m\u001b[0m\u001b[0;34m\u001b[0m\u001b[0m\n\u001b[0;32m--> 227\u001b[0;31m         raise ValueError(f'Input {input_index} of layer \"{layer_name}\" '\n\u001b[0m\u001b[1;32m    228\u001b[0m                          \u001b[0;34m'is incompatible with the layer: '\u001b[0m\u001b[0;34m\u001b[0m\u001b[0;34m\u001b[0m\u001b[0m\n\u001b[1;32m    229\u001b[0m                          \u001b[0;34mf'expected min_ndim={spec.min_ndim}, '\u001b[0m\u001b[0;34m\u001b[0m\u001b[0;34m\u001b[0m\u001b[0m\n",
      "\u001b[0;31mValueError\u001b[0m: Exception encountered when calling layer \"sequential\" (type Sequential).\n\nInput 0 of layer \"conv2d\" is incompatible with the layer: expected min_ndim=4, found ndim=2. Full shape received: (16, 196608)\n\nCall arguments received:\n  • inputs=tf.Tensor(shape=(16, 256, 256, 3), dtype=float32)\n  • training=False\n  • mask=None"
     ]
    }
   ],
   "source": [
    "model.fit_generator(all_data_batches, epochs=20, steps_per_epoch=100, validation_data=val_gen)\n",
    "model.save_weights(first_try.h5)"
   ]
  },
  {
   "cell_type": "markdown",
   "id": "bf9ca50f",
   "metadata": {},
   "source": [
    "4. Plot the accuracy and the loss over epochs for train & validation sets"
   ]
  },
  {
   "cell_type": "code",
   "execution_count": null,
   "id": "2c550991",
   "metadata": {},
   "outputs": [],
   "source": []
  },
  {
   "cell_type": "markdown",
   "id": "26ce5428-94b5-45f1-a08d-9f36dfacfbfb",
   "metadata": {},
   "source": [
    "5. Add the following layers to (2) before the dense layer:\n",
    "\n",
    "    a. 2D convolution layer with a 3x3 kernel size, has 64 filters, stride of 1 and padded to yield the same size as input, followed by a ReLU activation layer\n",
    "    \n",
    "    b. Max pooling layer of 2x2\n",
    "    \n",
    "    c. 2D convolution layer with a 3x3 kernel size, has 32 filters, stride of 1 and padded to yield the same size as input, followed by a ReLU activation layer\n",
    "    \n",
    "    d. Max pooling layer of 2x2\n",
    "    \n",
    "    e. Dense layer with 256 dimensions and ReLU as the activation layer"
   ]
  },
  {
   "cell_type": "code",
   "execution_count": 17,
   "id": "c07e8e76-0caa-41ff-a1da-60d36aad0546",
   "metadata": {},
   "outputs": [],
   "source": [
    "    model2 = tf.keras.Sequential(\n",
    "        [\n",
    "            tf.keras.layers.Conv2D(kernel_size=(3,3), activation='relu', padding='same',\n",
    "                                           strides=1, input_shape=(256,256,3), filters=128),\n",
    "            tf.keras.layers.MaxPooling2D(\n",
    "                pool_size=(2,2)),\n",
    "            tf.keras.layers.Conv2D(kernel_size=(3,3), activation='relu', padding='same',\n",
    "                                           strides=1, input_shape=(256,256,3), filters=32),\n",
    "            tf.keras.layers.MaxPooling2D(\n",
    "                pool_size=(2,2)),\n",
    "            tf.keras.layers.Dense(256, activation=\"relu\")\n",
    "            tf.keras.layers.Dense(128, activation=\"relu\"),\n",
    "        ]\n",
    "    )\n",
    "    model2.compile(tf.keras.optimizers.Adam(lr=0.01), loss=\"categorical_crossentropy\")"
   ]
  },
  {
   "cell_type": "markdown",
   "id": "abb8708e-a2f9-455f-b476-08f1bfdf8e8f",
   "metadata": {},
   "source": [
    "6. Train the classifier again for 20 epochs with 100 steps per epoch. Also use the validation data during training the estimator."
   ]
  },
  {
   "cell_type": "code",
   "execution_count": 19,
   "id": "6b4bc378-d1c4-4c71-ae4c-a0b6b22a9e04",
   "metadata": {},
   "outputs": [],
   "source": [
    "model.fit(INPUT, OUTPUT, epochs=20, steps_per_epoch=100)"
   ]
  },
  {
   "cell_type": "markdown",
   "id": "e4c95d51-b223-4040-b85e-b3cd0e71b7ab",
   "metadata": {},
   "source": [
    "7. Plot the accuracy and the loss over epochs for train & validation sets"
   ]
  },
  {
   "cell_type": "code",
   "execution_count": 21,
   "id": "ab945671-a5f4-43b9-ba1d-0355105f1eb3",
   "metadata": {},
   "outputs": [],
   "source": [
    "#code here"
   ]
  }
 ],
 "metadata": {
  "kernelspec": {
   "display_name": "Python 3",
   "language": "python",
   "name": "python3"
  },
  "language_info": {
   "codemirror_mode": {
    "name": "ipython",
    "version": 3
   },
   "file_extension": ".py",
   "mimetype": "text/x-python",
   "name": "python",
   "nbconvert_exporter": "python",
   "pygments_lexer": "ipython3",
   "version": "3.8.8"
  }
 },
 "nbformat": 4,
 "nbformat_minor": 5
}
