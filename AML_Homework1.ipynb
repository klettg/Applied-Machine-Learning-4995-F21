{
  "nbformat": 4,
  "nbformat_minor": 0,
  "metadata": {
    "colab": {
      "name": "AML-Homework1.ipynb",
      "provenance": [],
      "collapsed_sections": []
    },
    "kernelspec": {
      "name": "python3",
      "display_name": "Python 3"
    },
    "language_info": {
      "name": "python"
    }
  },
  "cells": [
    {
      "cell_type": "markdown",
      "metadata": {
        "id": "upV9qrJDf10C"
      },
      "source": [
        "# Applied Machine Learning HomeWork 1\n",
        "Due 09/29/21 11:59pm"
      ]
    },
    {
      "cell_type": "markdown",
      "metadata": {
        "id": "ZhumyiFVaKmq"
      },
      "source": [
        "## Task 1: Data Visualization and Analysis"
      ]
    },
    {
      "cell_type": "markdown",
      "metadata": {
        "id": "KPg0oe9Rf3Nu"
      },
      "source": [
        "You can download the FIFA 19 complete dataset from\n",
        "\n",
        "https://www.kaggle.com/karangadiya/fifa19\n",
        "\n",
        "Please replace the value of PATH_TO_DATASET variable in the following block with the path to your dataset"
      ]
    },
    {
      "cell_type": "code",
      "metadata": {
        "id": "dGvUEEL8g-bR"
      },
      "source": [
        "# import modules, read data\n",
        "import pandas as pd\n",
        "import matplotlib.pyplot as plt\n",
        "%matplotlib inline\n",
        "import numpy as np\n",
        "\n",
        "## TODO: Replace with the path to your dataset\n",
        "PATH_TO_DATASET = './data.csv' \n",
        "############################################################\n",
        "\n",
        "df = pd.read_csv(PATH_TO_DATASET)\n",
        "df.head()"
      ],
      "execution_count": null,
      "outputs": []
    },
    {
      "cell_type": "markdown",
      "metadata": {
        "id": "7FuxIbiFf3dL"
      },
      "source": [
        "### 1.1 \n",
        "\n",
        "Create a **scatter plot** of the Age vs Overall Rating. **Ensure the axes are labeled\n",
        "properly.**"
      ]
    },
    {
      "cell_type": "code",
      "metadata": {
        "id": "4aV9pzOrgHcU"
      },
      "source": [
        "#YOUR CODE HERE"
      ],
      "execution_count": null,
      "outputs": []
    },
    {
      "cell_type": "markdown",
      "metadata": {
        "id": "mGbHj08sgOs9"
      },
      "source": [
        "###1.2\n",
        "\n",
        "Visualize the distribution of Overall Rating as a **histogram**. \n",
        "\n",
        "Do a small multiples plot of whether the player's prefered foot is left, i.e. do **one plot** of Overall Rating distribution for those players prefered left foot and **a separate** for those who prefer right foot (**within the same figure on separate axes**). **Ensure the axes are labeled properly and titles are added.**"
      ]
    },
    {
      "cell_type": "code",
      "metadata": {
        "id": "pdBCrdRggQZ_"
      },
      "source": [
        "#YOUR CODE HERE"
      ],
      "execution_count": null,
      "outputs": []
    },
    {
      "cell_type": "markdown",
      "metadata": {
        "id": "PKPEOeJwgIKm"
      },
      "source": [
        "Can you spot differences in the distributions?\n",
        "\n",
        "Answer:"
      ]
    },
    {
      "cell_type": "markdown",
      "metadata": {
        "id": "s-euAowfgU4e"
      },
      "source": [
        "### 1.3\n",
        "\n",
        "Create a **pie chart** for distribution of Weak Foot for all the players. Get rid of players whose Weak Foot = nan. **Ensure each division is labeled properly and title is added**"
      ]
    },
    {
      "cell_type": "code",
      "metadata": {
        "id": "x0wX6muogS4S"
      },
      "source": [
        "#YOUR CODE HERE"
      ],
      "execution_count": null,
      "outputs": []
    },
    {
      "cell_type": "markdown",
      "metadata": {
        "id": "WFfwWUb9gXuG"
      },
      "source": [
        "### 1.4 \n",
        "\n",
        "Create **a boxplot and a violin plot** for distributions of players' ages in different positions (similar to plots on page 92 of Lecture 1 slide) Get rid of players whose position = nan. **Ensure the axes are labeled properly**"
      ]
    },
    {
      "cell_type": "code",
      "metadata": {
        "id": "MeS0t_miXASp"
      },
      "source": [
        "# Your Code Here\n",
        "# Create a boxplot"
      ],
      "execution_count": null,
      "outputs": []
    },
    {
      "cell_type": "code",
      "metadata": {
        "id": "5iuO6BACXCPD"
      },
      "source": [
        "# Your Code Here\n",
        "# Create a violin plot"
      ],
      "execution_count": null,
      "outputs": []
    },
    {
      "cell_type": "markdown",
      "metadata": {
        "id": "v8hqf3SDXEcl"
      },
      "source": [
        "### 1.5\n",
        "Creat a **stacked bar plot** for proportions of international reputation vs. players' ages (similar to the plot on page 97 of lecture 1 slide). **Ensure the axes and bars are labeled properly**\n",
        "\n",
        "Note that international reputation takes value from [1,2,3,4,5]. Get rid of players whose international reputation is nan. \n",
        "\n",
        "Ages should be treated as intervals with width 5, i.e. the x-axis labels should be: 16 to 20, 21 to 25, 26 to 30,..., 41 to 45 "
      ]
    },
    {
      "cell_type": "code",
      "metadata": {
        "id": "L_DHdepTXH_l"
      },
      "source": [
        "# Your Code Here"
      ],
      "execution_count": null,
      "outputs": []
    },
    {
      "cell_type": "markdown",
      "metadata": {
        "id": "fSoEdoyYgYrY"
      },
      "source": [
        "## Task 2: Data Preprocessing and Supervised Learning"
      ]
    },
    {
      "cell_type": "markdown",
      "metadata": {
        "id": "LnrTDqCdbXjr"
      },
      "source": [
        "Use the dataset_credit.csv for this task. The target variable is 'class'."
      ]
    },
    {
      "cell_type": "markdown",
      "metadata": {
        "id": "qOuEtmyxbv0T"
      },
      "source": [
        "### 2.1\n",
        "\n",
        "Load the data and understand the data distributions - pick a few features and plot their distributions.\n"
      ]
    },
    {
      "cell_type": "code",
      "metadata": {
        "id": "sBjNG_pUT1td"
      },
      "source": [
        "# YOUR CODE HERE"
      ],
      "execution_count": null,
      "outputs": []
    },
    {
      "cell_type": "markdown",
      "metadata": {
        "id": "PAHm4iFlfpfE"
      },
      "source": [
        "### 2.2\n",
        "\n",
        "**Preprocessing** - does any feature need pre-processing? Would you do any scaling to numerical features? Are there any categorical features? How would you handle the categorical features? Are there any features that has missing values? What % of values are missing in each of the features? Based on this percentages, would you consider dropping any features? How about adding a missing indicator? Would you consider adding a missing indicator column?"
      ]
    },
    {
      "cell_type": "code",
      "metadata": {
        "id": "6_wnrwrZfuLy"
      },
      "source": [
        "# YOUR CODE HERE"
      ],
      "execution_count": null,
      "outputs": []
    },
    {
      "cell_type": "markdown",
      "metadata": {
        "id": "RQ8ykYe-fvkI"
      },
      "source": [
        "### 2.3\n",
        "\n",
        "**Data splitting** - Create development & test datasets."
      ]
    },
    {
      "cell_type": "code",
      "metadata": {
        "id": "cQUrPIYilnHi"
      },
      "source": [
        "# YOUR CODE HERE"
      ],
      "execution_count": null,
      "outputs": []
    },
    {
      "cell_type": "markdown",
      "metadata": {
        "id": "dr-LqMj08-WD"
      },
      "source": [
        "Give a reason on why did you use the particular splitting strategy.\n",
        "\n",
        "Answer:"
      ]
    },
    {
      "cell_type": "markdown",
      "metadata": {
        "id": "UEgSscRclozh"
      },
      "source": [
        "### 2.4\n",
        "\n",
        "**Model selection** - Lets use k-nearest neighbors to train a model. Pick 2 out of 4 model selection strategies discussed in class to compare the optimal k chosen from both the methods. Also compare the results from grid search v.s. random search for finding the optimal k."
      ]
    },
    {
      "cell_type": "code",
      "metadata": {
        "id": "FN4WzX_Mln4L"
      },
      "source": [
        "# YOUR CODE HERE"
      ],
      "execution_count": null,
      "outputs": []
    },
    {
      "cell_type": "markdown",
      "metadata": {
        "id": "lqFn37NlEtG2"
      },
      "source": [
        "### 2.5\n",
        "\n",
        "Compare the performance of 4 models (2 model selection strategies & 2 hyperparameter search strategies) on the test set. Which combination performs the best? Any reasons why this combination gives the best performance?\n"
      ]
    },
    {
      "cell_type": "code",
      "metadata": {
        "id": "JeOE-9y7E5c-"
      },
      "source": [
        "# YOUR CODE HERE"
      ],
      "execution_count": null,
      "outputs": []
    }
  ]
}