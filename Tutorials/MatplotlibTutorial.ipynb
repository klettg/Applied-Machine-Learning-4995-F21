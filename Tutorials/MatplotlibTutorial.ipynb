{
 "cells": [
  {
   "cell_type": "markdown",
   "id": "bfffa168",
   "metadata": {},
   "source": [
    "# Matplotlib Tutorial"
   ]
  },
  {
   "cell_type": "markdown",
   "id": "87f1667b",
   "metadata": {},
   "source": [
    "Shouvik Mani <br>\n",
    "September 24, 2021 <br>\n",
    "COMS 4995: Applied Machine Learning, Columbia University"
   ]
  },
  {
   "cell_type": "code",
   "execution_count": 1,
   "id": "b0fc8f88",
   "metadata": {
    "ExecuteTime": {
     "end_time": "2021-09-26T21:45:01.395500Z",
     "start_time": "2021-09-26T21:44:59.267614Z"
    }
   },
   "outputs": [],
   "source": [
    "import numpy as np\n",
    "import pandas as pd\n",
    "import matplotlib.pyplot as plt\n",
    "%matplotlib inline"
   ]
  },
  {
   "cell_type": "markdown",
   "id": "58712605",
   "metadata": {},
   "source": [
    "### 1. Load data"
   ]
  },
  {
   "cell_type": "markdown",
   "id": "091a6fc8",
   "metadata": {},
   "source": [
    "Load in the processed COVID-19 vaccinations data (from the Pandas tutorial)."
   ]
  },
  {
   "cell_type": "code",
   "execution_count": 2,
   "id": "113d3de6",
   "metadata": {
    "ExecuteTime": {
     "end_time": "2021-09-26T21:45:01.639625Z",
     "start_time": "2021-09-26T21:45:01.397980Z"
    }
   },
   "outputs": [
    {
     "name": "stdout",
     "output_type": "stream",
     "text": [
      "(45677, 15)\n"
     ]
    },
    {
     "data": {
      "text/html": [
       "<div>\n",
       "<style scoped>\n",
       "    .dataframe tbody tr th:only-of-type {\n",
       "        vertical-align: middle;\n",
       "    }\n",
       "\n",
       "    .dataframe tbody tr th {\n",
       "        vertical-align: top;\n",
       "    }\n",
       "\n",
       "    .dataframe thead th {\n",
       "        text-align: right;\n",
       "    }\n",
       "</style>\n",
       "<table border=\"1\" class=\"dataframe\">\n",
       "  <thead>\n",
       "    <tr style=\"text-align: right;\">\n",
       "      <th></th>\n",
       "      <th>country</th>\n",
       "      <th>iso_code</th>\n",
       "      <th>date</th>\n",
       "      <th>total_vaccinations</th>\n",
       "      <th>people_vaccinated</th>\n",
       "      <th>people_fully_vaccinated</th>\n",
       "      <th>daily_vaccinations_raw</th>\n",
       "      <th>daily_vaccinations</th>\n",
       "      <th>total_vaccinations_per_hundred</th>\n",
       "      <th>people_vaccinated_per_hundred</th>\n",
       "      <th>people_fully_vaccinated_per_hundred</th>\n",
       "      <th>daily_vaccinations_per_million</th>\n",
       "      <th>vaccines</th>\n",
       "      <th>source_name</th>\n",
       "      <th>source_website</th>\n",
       "    </tr>\n",
       "  </thead>\n",
       "  <tbody>\n",
       "    <tr>\n",
       "      <th>0</th>\n",
       "      <td>Afghanistan</td>\n",
       "      <td>AFG</td>\n",
       "      <td>2021-02-23</td>\n",
       "      <td>NaN</td>\n",
       "      <td>NaN</td>\n",
       "      <td>NaN</td>\n",
       "      <td>NaN</td>\n",
       "      <td>1367.0</td>\n",
       "      <td>NaN</td>\n",
       "      <td>NaN</td>\n",
       "      <td>NaN</td>\n",
       "      <td>34.0</td>\n",
       "      <td>Johnson&amp;Johnson, Oxford/AstraZeneca, Pfizer/Bi...</td>\n",
       "      <td>World Health Organization</td>\n",
       "      <td>https://app.powerbi.com/view?r=eyJrIjoiYTkyM2V...</td>\n",
       "    </tr>\n",
       "    <tr>\n",
       "      <th>1</th>\n",
       "      <td>Afghanistan</td>\n",
       "      <td>AFG</td>\n",
       "      <td>2021-02-24</td>\n",
       "      <td>NaN</td>\n",
       "      <td>NaN</td>\n",
       "      <td>NaN</td>\n",
       "      <td>NaN</td>\n",
       "      <td>1367.0</td>\n",
       "      <td>NaN</td>\n",
       "      <td>NaN</td>\n",
       "      <td>NaN</td>\n",
       "      <td>34.0</td>\n",
       "      <td>Johnson&amp;Johnson, Oxford/AstraZeneca, Pfizer/Bi...</td>\n",
       "      <td>World Health Organization</td>\n",
       "      <td>https://app.powerbi.com/view?r=eyJrIjoiYTkyM2V...</td>\n",
       "    </tr>\n",
       "    <tr>\n",
       "      <th>2</th>\n",
       "      <td>Afghanistan</td>\n",
       "      <td>AFG</td>\n",
       "      <td>2021-02-25</td>\n",
       "      <td>NaN</td>\n",
       "      <td>NaN</td>\n",
       "      <td>NaN</td>\n",
       "      <td>NaN</td>\n",
       "      <td>1367.0</td>\n",
       "      <td>NaN</td>\n",
       "      <td>NaN</td>\n",
       "      <td>NaN</td>\n",
       "      <td>34.0</td>\n",
       "      <td>Johnson&amp;Johnson, Oxford/AstraZeneca, Pfizer/Bi...</td>\n",
       "      <td>World Health Organization</td>\n",
       "      <td>https://app.powerbi.com/view?r=eyJrIjoiYTkyM2V...</td>\n",
       "    </tr>\n",
       "    <tr>\n",
       "      <th>3</th>\n",
       "      <td>Afghanistan</td>\n",
       "      <td>AFG</td>\n",
       "      <td>2021-02-26</td>\n",
       "      <td>NaN</td>\n",
       "      <td>NaN</td>\n",
       "      <td>NaN</td>\n",
       "      <td>NaN</td>\n",
       "      <td>1367.0</td>\n",
       "      <td>NaN</td>\n",
       "      <td>NaN</td>\n",
       "      <td>NaN</td>\n",
       "      <td>34.0</td>\n",
       "      <td>Johnson&amp;Johnson, Oxford/AstraZeneca, Pfizer/Bi...</td>\n",
       "      <td>World Health Organization</td>\n",
       "      <td>https://app.powerbi.com/view?r=eyJrIjoiYTkyM2V...</td>\n",
       "    </tr>\n",
       "    <tr>\n",
       "      <th>4</th>\n",
       "      <td>Afghanistan</td>\n",
       "      <td>AFG</td>\n",
       "      <td>2021-02-27</td>\n",
       "      <td>NaN</td>\n",
       "      <td>NaN</td>\n",
       "      <td>NaN</td>\n",
       "      <td>NaN</td>\n",
       "      <td>1367.0</td>\n",
       "      <td>NaN</td>\n",
       "      <td>NaN</td>\n",
       "      <td>NaN</td>\n",
       "      <td>34.0</td>\n",
       "      <td>Johnson&amp;Johnson, Oxford/AstraZeneca, Pfizer/Bi...</td>\n",
       "      <td>World Health Organization</td>\n",
       "      <td>https://app.powerbi.com/view?r=eyJrIjoiYTkyM2V...</td>\n",
       "    </tr>\n",
       "  </tbody>\n",
       "</table>\n",
       "</div>"
      ],
      "text/plain": [
       "       country iso_code        date  total_vaccinations  people_vaccinated  \\\n",
       "0  Afghanistan      AFG  2021-02-23                 NaN                NaN   \n",
       "1  Afghanistan      AFG  2021-02-24                 NaN                NaN   \n",
       "2  Afghanistan      AFG  2021-02-25                 NaN                NaN   \n",
       "3  Afghanistan      AFG  2021-02-26                 NaN                NaN   \n",
       "4  Afghanistan      AFG  2021-02-27                 NaN                NaN   \n",
       "\n",
       "   people_fully_vaccinated  daily_vaccinations_raw  daily_vaccinations  \\\n",
       "0                      NaN                     NaN              1367.0   \n",
       "1                      NaN                     NaN              1367.0   \n",
       "2                      NaN                     NaN              1367.0   \n",
       "3                      NaN                     NaN              1367.0   \n",
       "4                      NaN                     NaN              1367.0   \n",
       "\n",
       "   total_vaccinations_per_hundred  people_vaccinated_per_hundred  \\\n",
       "0                             NaN                            NaN   \n",
       "1                             NaN                            NaN   \n",
       "2                             NaN                            NaN   \n",
       "3                             NaN                            NaN   \n",
       "4                             NaN                            NaN   \n",
       "\n",
       "   people_fully_vaccinated_per_hundred  daily_vaccinations_per_million  \\\n",
       "0                                  NaN                            34.0   \n",
       "1                                  NaN                            34.0   \n",
       "2                                  NaN                            34.0   \n",
       "3                                  NaN                            34.0   \n",
       "4                                  NaN                            34.0   \n",
       "\n",
       "                                            vaccines  \\\n",
       "0  Johnson&Johnson, Oxford/AstraZeneca, Pfizer/Bi...   \n",
       "1  Johnson&Johnson, Oxford/AstraZeneca, Pfizer/Bi...   \n",
       "2  Johnson&Johnson, Oxford/AstraZeneca, Pfizer/Bi...   \n",
       "3  Johnson&Johnson, Oxford/AstraZeneca, Pfizer/Bi...   \n",
       "4  Johnson&Johnson, Oxford/AstraZeneca, Pfizer/Bi...   \n",
       "\n",
       "                 source_name  \\\n",
       "0  World Health Organization   \n",
       "1  World Health Organization   \n",
       "2  World Health Organization   \n",
       "3  World Health Organization   \n",
       "4  World Health Organization   \n",
       "\n",
       "                                      source_website  \n",
       "0  https://app.powerbi.com/view?r=eyJrIjoiYTkyM2V...  \n",
       "1  https://app.powerbi.com/view?r=eyJrIjoiYTkyM2V...  \n",
       "2  https://app.powerbi.com/view?r=eyJrIjoiYTkyM2V...  \n",
       "3  https://app.powerbi.com/view?r=eyJrIjoiYTkyM2V...  \n",
       "4  https://app.powerbi.com/view?r=eyJrIjoiYTkyM2V...  "
      ]
     },
     "execution_count": 2,
     "metadata": {},
     "output_type": "execute_result"
    }
   ],
   "source": [
    "vaccine_df = pd.read_csv('data/covid_vaccinations/country_vaccinations_processed.csv')\n",
    "print(vaccine_df.shape)\n",
    "vaccine_df.head()"
   ]
  },
  {
   "cell_type": "markdown",
   "id": "7260afc9",
   "metadata": {},
   "source": [
    "Also, load in the player-teams dataset that we made in the Pandas tutorial."
   ]
  },
  {
   "cell_type": "code",
   "execution_count": 3,
   "id": "44abbaec",
   "metadata": {
    "ExecuteTime": {
     "end_time": "2021-09-26T21:45:01.656866Z",
     "start_time": "2021-09-26T21:45:01.642492Z"
    }
   },
   "outputs": [
    {
     "data": {
      "text/html": [
       "<div>\n",
       "<style scoped>\n",
       "    .dataframe tbody tr th:only-of-type {\n",
       "        vertical-align: middle;\n",
       "    }\n",
       "\n",
       "    .dataframe tbody tr th {\n",
       "        vertical-align: top;\n",
       "    }\n",
       "\n",
       "    .dataframe thead th {\n",
       "        text-align: right;\n",
       "    }\n",
       "</style>\n",
       "<table border=\"1\" class=\"dataframe\">\n",
       "  <thead>\n",
       "    <tr style=\"text-align: right;\">\n",
       "      <th></th>\n",
       "      <th>Name</th>\n",
       "      <th>Team</th>\n",
       "      <th>Age</th>\n",
       "      <th>Nationality</th>\n",
       "    </tr>\n",
       "  </thead>\n",
       "  <tbody>\n",
       "    <tr>\n",
       "      <th>0</th>\n",
       "      <td>Lionel Messi</td>\n",
       "      <td>Paris Saint-Germain</td>\n",
       "      <td>34</td>\n",
       "      <td>Argentina</td>\n",
       "    </tr>\n",
       "    <tr>\n",
       "      <th>1</th>\n",
       "      <td>Cristiano Ronaldo</td>\n",
       "      <td>Manchester United</td>\n",
       "      <td>36</td>\n",
       "      <td>Portugal</td>\n",
       "    </tr>\n",
       "    <tr>\n",
       "      <th>2</th>\n",
       "      <td>Neymar</td>\n",
       "      <td>Paris Saint-Germain</td>\n",
       "      <td>29</td>\n",
       "      <td>Brazil</td>\n",
       "    </tr>\n",
       "    <tr>\n",
       "      <th>3</th>\n",
       "      <td>Kylian Mbappe</td>\n",
       "      <td>Paris Saint-Germain</td>\n",
       "      <td>22</td>\n",
       "      <td>France</td>\n",
       "    </tr>\n",
       "    <tr>\n",
       "      <th>4</th>\n",
       "      <td>Mohamed Salah</td>\n",
       "      <td>Liverpool</td>\n",
       "      <td>29</td>\n",
       "      <td>Egypt</td>\n",
       "    </tr>\n",
       "  </tbody>\n",
       "</table>\n",
       "</div>"
      ],
      "text/plain": [
       "                Name                 Team  Age Nationality\n",
       "0       Lionel Messi  Paris Saint-Germain   34   Argentina\n",
       "1  Cristiano Ronaldo    Manchester United   36    Portugal\n",
       "2             Neymar  Paris Saint-Germain   29      Brazil\n",
       "3      Kylian Mbappe  Paris Saint-Germain   22      France\n",
       "4      Mohamed Salah            Liverpool   29       Egypt"
      ]
     },
     "execution_count": 3,
     "metadata": {},
     "output_type": "execute_result"
    }
   ],
   "source": [
    "player_teams_df = pd.read_csv('data/player_teams.csv')\n",
    "player_teams_df"
   ]
  },
  {
   "cell_type": "markdown",
   "id": "0566496b",
   "metadata": {},
   "source": [
    "Now, let's make some plots!"
   ]
  },
  {
   "cell_type": "markdown",
   "id": "673e3c3a",
   "metadata": {},
   "source": [
    "### 2. Histogram"
   ]
  },
  {
   "cell_type": "markdown",
   "id": "04952ce8",
   "metadata": {},
   "source": [
    "Plot a histogram of the number of daily vaccinations in the US."
   ]
  },
  {
   "cell_type": "code",
   "execution_count": 4,
   "id": "f31f6800",
   "metadata": {
    "ExecuteTime": {
     "end_time": "2021-09-26T21:45:02.130298Z",
     "start_time": "2021-09-26T21:45:01.660700Z"
    }
   },
   "outputs": [
    {
     "data": {
      "text/plain": [
       "Text(0.5, 0, 'Number of daily vaccinations')"
      ]
     },
     "execution_count": 4,
     "metadata": {},
     "output_type": "execute_result"
    },
    {
     "data": {
      "image/png": "[encoded data removed]",
      "text/plain": [
       "<Figure size 648x360 with 1 Axes>"
      ]
     },
     "metadata": {
      "needs_background": "light"
     },
     "output_type": "display_data"
    }
   ],
   "source": [
    "vaccine_df_usa = vaccine_df[vaccine_df['country'] == 'United States']\n",
    "\n",
    "plt.figure(figsize=(9, 5))\n",
    "plt.hist(vaccine_df_usa['daily_vaccinations'], bins=50)\n",
    "plt.title('Distribution of daily vaccinations in the US', fontsize=14)\n",
    "plt.xlabel('Number of daily vaccinations', fontsize=12)"
   ]
  },
  {
   "cell_type": "markdown",
   "id": "0e69777f",
   "metadata": {},
   "source": [
    "### 3. Bar chart"
   ]
  },
  {
   "cell_type": "markdown",
   "id": "d1438dd4",
   "metadata": {},
   "source": [
    "Plot a bar chart of the frequency of teams in the player-teams DataFrame."
   ]
  },
  {
   "cell_type": "code",
   "execution_count": 5,
   "id": "07119f11",
   "metadata": {
    "ExecuteTime": {
     "end_time": "2021-09-26T21:45:02.142623Z",
     "start_time": "2021-09-26T21:45:02.132140Z"
    }
   },
   "outputs": [
    {
     "data": {
      "text/plain": [
       "Paris Saint-Germain    3\n",
       "Manchester United      1\n",
       "Liverpool              1\n",
       "Name: Team, dtype: int64"
      ]
     },
     "execution_count": 5,
     "metadata": {},
     "output_type": "execute_result"
    }
   ],
   "source": [
    "team_frequencies = player_teams_df['Team'].value_counts()\n",
    "team_frequencies"
   ]
  },
  {
   "cell_type": "code",
   "execution_count": 6,
   "id": "91cc0ffd",
   "metadata": {
    "ExecuteTime": {
     "end_time": "2021-09-26T21:45:02.327387Z",
     "start_time": "2021-09-26T21:45:02.145651Z"
    }
   },
   "outputs": [
    {
     "data": {
      "text/plain": [
       "Text(0.5, 0, 'Teams')"
      ]
     },
     "execution_count": 6,
     "metadata": {},
     "output_type": "execute_result"
    },
    {
     "data": {
      "image/png": "[encoded data removed]",
      "text/plain": [
       "<Figure size 504x288 with 1 Axes>"
      ]
     },
     "metadata": {
      "needs_background": "light"
     },
     "output_type": "display_data"
    }
   ],
   "source": [
    "plt.figure(figsize=(7, 4))\n",
    "plt.bar(range(len(team_frequencies)), team_frequencies)\n",
    "plt.xticks(range(len(team_frequencies)), team_frequencies.index, fontsize=12)\n",
    "plt.title('Frequency of teams for 5 players', fontsize=14)\n",
    "plt.xlabel('Teams', fontsize=12)"
   ]
  },
  {
   "cell_type": "markdown",
   "id": "6aace9ad",
   "metadata": {},
   "source": [
    "### 4. Scatter plot"
   ]
  },
  {
   "cell_type": "markdown",
   "id": "24afd45f",
   "metadata": {},
   "source": [
    "Plot a scatter plot of the number of people fully vaccinated vs. the number of people vaccinated.\n",
    "\n",
    "Note: A scatter plot is not the best way to represent this data, as the number of people fully vaccinated is really just a function of the number of people vaccinated, i.e. there is no variance. The scatter plot is shown here just as an example; perhaps a line plot would have been a better choice."
   ]
  },
  {
   "cell_type": "code",
   "execution_count": 7,
   "id": "fdfe863b",
   "metadata": {
    "ExecuteTime": {
     "end_time": "2021-09-26T21:45:02.603773Z",
     "start_time": "2021-09-26T21:45:02.330325Z"
    }
   },
   "outputs": [
    {
     "data": {
      "text/plain": [
       "Text(0, 0.5, 'Number of people fully vaccinated')"
      ]
     },
     "execution_count": 7,
     "metadata": {},
     "output_type": "execute_result"
    },
    {
     "data": {
      "image/png": "[encoded data removed]",
      "text/plain": [
       "<Figure size 648x360 with 1 Axes>"
      ]
     },
     "metadata": {
      "needs_background": "light"
     },
     "output_type": "display_data"
    }
   ],
   "source": [
    "plt.figure(figsize=(9, 5))\n",
    "plt.scatter(vaccine_df_usa['people_vaccinated'], vaccine_df_usa['people_fully_vaccinated'], s=5)\n",
    "plt.xlabel('Number of people vaccinated', fontsize=12)\n",
    "plt.ylabel('Number of people fully vaccinated', fontsize=12)"
   ]
  },
  {
   "cell_type": "markdown",
   "id": "44937901",
   "metadata": {},
   "source": [
    "### 5. Line plot"
   ]
  },
  {
   "cell_type": "markdown",
   "id": "8effd6e8",
   "metadata": {},
   "source": [
    "Make a line plot showing the number of daily vaccinations in the US over time."
   ]
  },
  {
   "cell_type": "code",
   "execution_count": 8,
   "id": "e5737583",
   "metadata": {
    "ExecuteTime": {
     "end_time": "2021-09-26T21:45:02.897331Z",
     "start_time": "2021-09-26T21:45:02.606676Z"
    }
   },
   "outputs": [
    {
     "data": {
      "text/plain": [
       "Text(0.5, 1.0, 'Daily vaccinations in the US over time')"
      ]
     },
     "execution_count": 8,
     "metadata": {},
     "output_type": "execute_result"
    },
    {
     "data": {
      "image/png": "[encoded data removed]",
      "text/plain": [
       "<Figure size 1296x360 with 1 Axes>"
      ]
     },
     "metadata": {
      "needs_background": "light"
     },
     "output_type": "display_data"
    }
   ],
   "source": [
    "plt.figure(figsize=(18, 5))\n",
    "plt.plot(pd.to_datetime(vaccine_df_usa['date']), vaccine_df_usa['daily_vaccinations'])\n",
    "plt.ylabel('Number of daily vaccinations', fontsize=13)\n",
    "plt.title('Daily vaccinations in the US over time', fontsize=14)"
   ]
  },
  {
   "cell_type": "code",
   "execution_count": null,
   "id": "c01e748b",
   "metadata": {},
   "outputs": [],
   "source": []
  }
 ],
 "metadata": {
  "kernelspec": {
   "display_name": "Python 3 (ipykernel)",
   "language": "python",
   "name": "python3"
  },
  "language_info": {
   "codemirror_mode": {
    "name": "ipython",
    "version": 3
   },
   "file_extension": ".py",
   "mimetype": "text/x-python",
   "name": "python",
   "nbconvert_exporter": "python",
   "pygments_lexer": "ipython3",
   "version": "3.8.8"
  }
 },
 "nbformat": 4,
 "nbformat_minor": 5
}
