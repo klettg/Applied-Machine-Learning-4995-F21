{
 "cells": [
  {
   "cell_type": "markdown",
   "id": "iraqi-courtesy",
   "metadata": {},
   "source": [
    "# NumPy Tutorial"
   ]
  },
  {
   "cell_type": "markdown",
   "id": "destroyed-questionnaire",
   "metadata": {},
   "source": [
    "Shouvik Mani <br>\n",
    "September 24, 2021 <br>\n",
    "COMS 4995: Applied Machine Learning, Columbia University"
   ]
  },
  {
   "cell_type": "code",
   "execution_count": 1,
   "id": "drawn-keyboard",
   "metadata": {
    "ExecuteTime": {
     "end_time": "2021-09-26T20:30:39.631242Z",
     "start_time": "2021-09-26T20:30:38.043279Z"
    }
   },
   "outputs": [],
   "source": [
    "import numpy as np"
   ]
  },
  {
   "cell_type": "markdown",
   "id": "2ebd3513",
   "metadata": {},
   "source": [
    "### 1. Creating Vectors and Matrices"
   ]
  },
  {
   "cell_type": "markdown",
   "id": "f9110a1b",
   "metadata": {},
   "source": [
    "Create a vector."
   ]
  },
  {
   "cell_type": "code",
   "execution_count": 2,
   "id": "6599be71",
   "metadata": {
    "ExecuteTime": {
     "end_time": "2021-09-26T20:30:46.282568Z",
     "start_time": "2021-09-26T20:30:46.261905Z"
    }
   },
   "outputs": [
    {
     "name": "stdout",
     "output_type": "stream",
     "text": [
      "(5,)\n",
      "[1 2 3 4 5]\n"
     ]
    }
   ],
   "source": [
    "x = np.array([1, 2, 3, 4, 5])\n",
    "\n",
    "print(x.shape)\n",
    "print(x)"
   ]
  },
  {
   "cell_type": "markdown",
   "id": "4d96e94d",
   "metadata": {},
   "source": [
    "Create a matrix."
   ]
  },
  {
   "cell_type": "code",
   "execution_count": 3,
   "id": "d2a567d9",
   "metadata": {
    "ExecuteTime": {
     "end_time": "2021-09-26T20:30:47.193097Z",
     "start_time": "2021-09-26T20:30:47.188645Z"
    }
   },
   "outputs": [
    {
     "name": "stdout",
     "output_type": "stream",
     "text": [
      "(3, 3)\n",
      "[[2 1 4]\n",
      " [5 0 1]\n",
      " [3 2 1]]\n"
     ]
    }
   ],
   "source": [
    "A = np.array([[2, 1, 4], \n",
    "              [5, 0, 1], \n",
    "              [3, 2, 1]])\n",
    "              \n",
    "print(A.shape)\n",
    "print(A)"
   ]
  },
  {
   "cell_type": "markdown",
   "id": "264fba20",
   "metadata": {},
   "source": [
    "Special matrices"
   ]
  },
  {
   "cell_type": "code",
   "execution_count": 4,
   "id": "cd141317",
   "metadata": {
    "ExecuteTime": {
     "end_time": "2021-09-26T20:30:48.294562Z",
     "start_time": "2021-09-26T20:30:48.269265Z"
    }
   },
   "outputs": [
    {
     "data": {
      "text/plain": [
       "array([[0., 0., 0.],\n",
       "       [0., 0., 0.],\n",
       "       [0., 0., 0.]])"
      ]
     },
     "execution_count": 4,
     "metadata": {},
     "output_type": "execute_result"
    }
   ],
   "source": [
    "np.zeros(shape=(3, 3))"
   ]
  },
  {
   "cell_type": "code",
   "execution_count": 5,
   "id": "a0abb148",
   "metadata": {
    "ExecuteTime": {
     "end_time": "2021-09-26T20:30:49.533664Z",
     "start_time": "2021-09-26T20:30:49.527706Z"
    }
   },
   "outputs": [
    {
     "data": {
      "text/plain": [
       "array([[1., 1., 1., 1.],\n",
       "       [1., 1., 1., 1.],\n",
       "       [1., 1., 1., 1.],\n",
       "       [1., 1., 1., 1.]])"
      ]
     },
     "execution_count": 5,
     "metadata": {},
     "output_type": "execute_result"
    }
   ],
   "source": [
    "np.ones(shape=(4, 4))"
   ]
  },
  {
   "cell_type": "code",
   "execution_count": 6,
   "id": "5bbe9591",
   "metadata": {
    "ExecuteTime": {
     "end_time": "2021-09-26T20:30:55.906978Z",
     "start_time": "2021-09-26T20:30:55.901384Z"
    }
   },
   "outputs": [
    {
     "data": {
      "text/plain": [
       "array([[1., 0., 0.],\n",
       "       [0., 1., 0.],\n",
       "       [0., 0., 1.]])"
      ]
     },
     "execution_count": 6,
     "metadata": {},
     "output_type": "execute_result"
    }
   ],
   "source": [
    "# Identity matrix\n",
    "np.eye(N=3)"
   ]
  },
  {
   "cell_type": "markdown",
   "id": "fc5f2ec8",
   "metadata": {},
   "source": [
    "Evenly spaced numbers"
   ]
  },
  {
   "cell_type": "code",
   "execution_count": 7,
   "id": "0e3b9cf9",
   "metadata": {
    "ExecuteTime": {
     "end_time": "2021-09-26T20:31:17.705931Z",
     "start_time": "2021-09-26T20:31:17.698162Z"
    }
   },
   "outputs": [
    {
     "name": "stdout",
     "output_type": "stream",
     "text": [
      "[0.  0.1 0.2 0.3 0.4 0.5 0.6 0.7 0.8 0.9 1. ]\n"
     ]
    }
   ],
   "source": [
    "# 11 numbers between 0 and 1\n",
    "x = np.linspace(start=0, stop=1, num=11)\n",
    "\n",
    "print(x)"
   ]
  },
  {
   "cell_type": "markdown",
   "id": "bb47feef",
   "metadata": {},
   "source": [
    "Sample random numbers from a Normal distribution. There are many more distributions you can choose from (see documentation for np.random)."
   ]
  },
  {
   "cell_type": "code",
   "execution_count": 8,
   "id": "90f54877",
   "metadata": {
    "ExecuteTime": {
     "end_time": "2021-09-26T20:33:34.507820Z",
     "start_time": "2021-09-26T20:33:34.482247Z"
    }
   },
   "outputs": [
    {
     "name": "stdout",
     "output_type": "stream",
     "text": [
      "[ 1.62434536 -0.61175641 -0.52817175 -1.07296862  0.86540763]\n"
     ]
    }
   ],
   "source": [
    "# Seed the random number generator (important for reproducible results)\n",
    "np.random.seed(1)\n",
    "\n",
    "# Sample from a Normal distribution with mean 0 and standard deviation 1\n",
    "x = np.random.normal(loc=0, scale=1, size=5)\n",
    "\n",
    "print(x)"
   ]
  },
  {
   "cell_type": "code",
   "execution_count": 9,
   "id": "55304e0f",
   "metadata": {
    "ExecuteTime": {
     "end_time": "2021-09-26T20:33:48.614681Z",
     "start_time": "2021-09-26T20:33:48.574873Z"
    }
   },
   "outputs": [
    {
     "data": {
      "text/plain": [
       "array([0.41919451, 0.6852195 , 0.20445225, 0.87811744, 0.02738759,\n",
       "       0.67046751, 0.4173048 , 0.55868983, 0.14038694, 0.19810149])"
      ]
     },
     "execution_count": 9,
     "metadata": {},
     "output_type": "execute_result"
    }
   ],
   "source": [
    "# Sample from a Uniform distribution\n",
    "np.random.uniform(low=0, high=1, size=10)"
   ]
  },
  {
   "cell_type": "markdown",
   "id": "584d4c5d",
   "metadata": {},
   "source": [
    "### 2. Indexing, Slicing, and Iterating"
   ]
  },
  {
   "cell_type": "code",
   "execution_count": 10,
   "id": "385638d0",
   "metadata": {
    "ExecuteTime": {
     "end_time": "2021-09-26T20:34:09.598294Z",
     "start_time": "2021-09-26T20:34:09.577658Z"
    }
   },
   "outputs": [],
   "source": [
    "A = np.array([[2, 1, 4], \n",
    "              [5, 0, 1], \n",
    "              [3, 2, 1]])"
   ]
  },
  {
   "cell_type": "markdown",
   "id": "ad083186",
   "metadata": {},
   "source": [
    "Access an element by index"
   ]
  },
  {
   "cell_type": "code",
   "execution_count": 11,
   "id": "9d593da8",
   "metadata": {
    "ExecuteTime": {
     "end_time": "2021-09-26T20:34:37.634246Z",
     "start_time": "2021-09-26T20:34:37.613676Z"
    }
   },
   "outputs": [
    {
     "data": {
      "text/plain": [
       "array([3, 2, 1])"
      ]
     },
     "execution_count": 11,
     "metadata": {},
     "output_type": "execute_result"
    }
   ],
   "source": [
    "A[2]   # Index into row 2"
   ]
  },
  {
   "cell_type": "code",
   "execution_count": 12,
   "id": "5b576ca4",
   "metadata": {
    "ExecuteTime": {
     "end_time": "2021-09-26T20:34:49.067496Z",
     "start_time": "2021-09-26T20:34:49.041391Z"
    }
   },
   "outputs": [
    {
     "data": {
      "text/plain": [
       "1"
      ]
     },
     "execution_count": 12,
     "metadata": {},
     "output_type": "execute_result"
    }
   ],
   "source": [
    "A[2, 2]   # Index into row 2, column 2"
   ]
  },
  {
   "cell_type": "markdown",
   "id": "ab709b1a",
   "metadata": {},
   "source": [
    "Set a value at an index"
   ]
  },
  {
   "cell_type": "code",
   "execution_count": 13,
   "id": "3232d454",
   "metadata": {
    "ExecuteTime": {
     "end_time": "2021-09-26T20:35:18.674613Z",
     "start_time": "2021-09-26T20:35:18.665283Z"
    }
   },
   "outputs": [
    {
     "name": "stdout",
     "output_type": "stream",
     "text": [
      "[[ 2  1  4]\n",
      " [ 5  0  1]\n",
      " [ 3  2 -1]]\n"
     ]
    }
   ],
   "source": [
    "A[2, 2] = -1\n",
    "print(A)"
   ]
  },
  {
   "cell_type": "markdown",
   "id": "e1c38f53",
   "metadata": {},
   "source": [
    "Slicing"
   ]
  },
  {
   "cell_type": "code",
   "execution_count": 14,
   "id": "ca6c578d",
   "metadata": {
    "ExecuteTime": {
     "end_time": "2021-09-26T20:36:51.828755Z",
     "start_time": "2021-09-26T20:36:51.792134Z"
    }
   },
   "outputs": [
    {
     "data": {
      "text/plain": [
       "array([[1, 4],\n",
       "       [0, 1]])"
      ]
     },
     "execution_count": 14,
     "metadata": {},
     "output_type": "execute_result"
    }
   ],
   "source": [
    "# Slice rows 0 through 1, cols 1 through 2\n",
    "A[0:2, 1:3]"
   ]
  },
  {
   "cell_type": "code",
   "execution_count": 15,
   "id": "c0a525a9",
   "metadata": {
    "ExecuteTime": {
     "end_time": "2021-09-26T20:37:53.274804Z",
     "start_time": "2021-09-26T20:37:53.251027Z"
    }
   },
   "outputs": [
    {
     "data": {
      "text/plain": [
       "array([2, 5, 3])"
      ]
     },
     "execution_count": 15,
     "metadata": {},
     "output_type": "execute_result"
    }
   ],
   "source": [
    "# Slice all rows, col 0\n",
    "A[:, 0]"
   ]
  },
  {
   "cell_type": "markdown",
   "id": "d78f2339",
   "metadata": {},
   "source": [
    "Iterating over a matrix"
   ]
  },
  {
   "cell_type": "code",
   "execution_count": 16,
   "id": "d48e16de",
   "metadata": {
    "ExecuteTime": {
     "end_time": "2021-09-26T20:37:58.385065Z",
     "start_time": "2021-09-26T20:37:58.367459Z"
    }
   },
   "outputs": [
    {
     "name": "stdout",
     "output_type": "stream",
     "text": [
      "[2 1 4]\n",
      "[5 0 1]\n",
      "[ 3  2 -1]\n"
     ]
    }
   ],
   "source": [
    "# Iterating over rows\n",
    "for row in A:\n",
    "    print(row)"
   ]
  },
  {
   "cell_type": "code",
   "execution_count": 17,
   "id": "dcb45605",
   "metadata": {
    "ExecuteTime": {
     "end_time": "2021-09-26T20:38:09.824489Z",
     "start_time": "2021-09-26T20:38:09.807300Z"
    }
   },
   "outputs": [
    {
     "name": "stdout",
     "output_type": "stream",
     "text": [
      "17\n"
     ]
    }
   ],
   "source": [
    "sum = 0\n",
    "\n",
    "# Iterating over rows and cols\n",
    "for row in A:\n",
    "    for elem in row:\n",
    "        sum += elem\n",
    "        \n",
    "print(sum)"
   ]
  },
  {
   "cell_type": "markdown",
   "id": "8deeb49e",
   "metadata": {},
   "source": [
    "### 3. Basic Vector and Matrix Operations"
   ]
  },
  {
   "cell_type": "markdown",
   "id": "a66e8e1c",
   "metadata": {},
   "source": [
    "Scalar multiplication and vector addition"
   ]
  },
  {
   "cell_type": "code",
   "execution_count": 18,
   "id": "8fd78123",
   "metadata": {
    "ExecuteTime": {
     "end_time": "2021-09-26T20:38:33.326427Z",
     "start_time": "2021-09-26T20:38:33.317455Z"
    }
   },
   "outputs": [
    {
     "name": "stdout",
     "output_type": "stream",
     "text": [
      "[ 3  4  7  8 11]\n"
     ]
    }
   ],
   "source": [
    "x = np.array([1, 2, 3, 4, 5])\n",
    "y = np.array([1, 0, 1, 0, 1])\n",
    "\n",
    "print(2 * x + y)"
   ]
  },
  {
   "cell_type": "markdown",
   "id": "d05e8ddd",
   "metadata": {},
   "source": [
    "Dot product"
   ]
  },
  {
   "cell_type": "code",
   "execution_count": 19,
   "id": "3cf8c5a4",
   "metadata": {
    "ExecuteTime": {
     "end_time": "2021-09-26T20:38:37.734926Z",
     "start_time": "2021-09-26T20:38:37.717207Z"
    }
   },
   "outputs": [
    {
     "name": "stdout",
     "output_type": "stream",
     "text": [
      "9\n",
      "9\n"
     ]
    }
   ],
   "source": [
    "x = np.array([1, 2, 3, 4, 5])\n",
    "y = np.array([1, 0, 1, 0, 1])\n",
    "\n",
    "# Two different ways!\n",
    "print(x @ y)\n",
    "print(x.dot(y))"
   ]
  },
  {
   "cell_type": "markdown",
   "id": "9561d178",
   "metadata": {},
   "source": [
    "Vector norm"
   ]
  },
  {
   "cell_type": "code",
   "execution_count": 20,
   "id": "1e89bbac",
   "metadata": {
    "ExecuteTime": {
     "end_time": "2021-09-26T20:39:23.102218Z",
     "start_time": "2021-09-26T20:39:22.975274Z"
    }
   },
   "outputs": [
    {
     "name": "stdout",
     "output_type": "stream",
     "text": [
      "15.0\n",
      "7.416198487095663\n"
     ]
    }
   ],
   "source": [
    "x = np.array([1, 2, 3, 4, 5])\n",
    "\n",
    "print(np.linalg.norm(x, 1))   # L1-norm\n",
    "print(np.linalg.norm(x, 2))   # L2-norm (i.e. vector magnitude)"
   ]
  },
  {
   "cell_type": "markdown",
   "id": "675e8a46",
   "metadata": {},
   "source": [
    "Matrix transpose"
   ]
  },
  {
   "cell_type": "code",
   "execution_count": 21,
   "id": "5483b2cb",
   "metadata": {
    "ExecuteTime": {
     "end_time": "2021-09-26T20:39:25.136525Z",
     "start_time": "2021-09-26T20:39:25.131653Z"
    }
   },
   "outputs": [
    {
     "name": "stdout",
     "output_type": "stream",
     "text": [
      "[[2 5 3]\n",
      " [1 0 2]\n",
      " [4 1 1]]\n"
     ]
    }
   ],
   "source": [
    "A = np.array([[2, 1, 4], \n",
    "              [5, 0, 1], \n",
    "              [3, 2, 1]])\n",
    "\n",
    "print(A.T)"
   ]
  },
  {
   "cell_type": "markdown",
   "id": "75ab90d5",
   "metadata": {},
   "source": [
    "Reshape a matrix"
   ]
  },
  {
   "cell_type": "code",
   "execution_count": 22,
   "id": "ddce5afd",
   "metadata": {
    "ExecuteTime": {
     "end_time": "2021-09-26T20:39:27.840570Z",
     "start_time": "2021-09-26T20:39:27.827247Z"
    }
   },
   "outputs": [
    {
     "name": "stdout",
     "output_type": "stream",
     "text": [
      "[[2]\n",
      " [1]\n",
      " [4]\n",
      " [5]\n",
      " [0]\n",
      " [1]]\n"
     ]
    }
   ],
   "source": [
    "A = np.array([[2, 1, 4], \n",
    "              [5, 0, 1]])\n",
    "a = A.reshape((6, 1))\n",
    "\n",
    "print(a)"
   ]
  },
  {
   "cell_type": "markdown",
   "id": "92347bcf",
   "metadata": {},
   "source": [
    "Scalar multiplication and matrix addition"
   ]
  },
  {
   "cell_type": "code",
   "execution_count": 23,
   "id": "e7a52480",
   "metadata": {
    "ExecuteTime": {
     "end_time": "2021-09-26T20:39:38.392146Z",
     "start_time": "2021-09-26T20:39:38.386746Z"
    }
   },
   "outputs": [
    {
     "name": "stdout",
     "output_type": "stream",
     "text": [
      "[[ 5  4 11]\n",
      " [14  5  8]\n",
      " [13 12 11]]\n"
     ]
    }
   ],
   "source": [
    "A = np.array([[2, 1, 4], \n",
    "              [5, 0, 1], \n",
    "              [3, 2, 1]])\n",
    "B = np.array([[1, 2, 3], \n",
    "              [4, 5, 6], \n",
    "              [7, 8, 9]])\n",
    "\n",
    "print(2 * A + B)"
   ]
  },
  {
   "cell_type": "markdown",
   "id": "7585c95d",
   "metadata": {},
   "source": [
    "Elementwise multiplication (**not matrix multiplication**)"
   ]
  },
  {
   "cell_type": "code",
   "execution_count": 24,
   "id": "a8e97d88",
   "metadata": {
    "ExecuteTime": {
     "end_time": "2021-09-26T20:39:44.254443Z",
     "start_time": "2021-09-26T20:39:44.241840Z"
    }
   },
   "outputs": [
    {
     "name": "stdout",
     "output_type": "stream",
     "text": [
      "[[ 2  2 12]\n",
      " [20  0  6]\n",
      " [21 16  9]]\n"
     ]
    }
   ],
   "source": [
    "print(A * B)"
   ]
  },
  {
   "cell_type": "markdown",
   "id": "b44db06f",
   "metadata": {},
   "source": [
    "Matrix multiplication"
   ]
  },
  {
   "cell_type": "code",
   "execution_count": 25,
   "id": "aee4d917",
   "metadata": {
    "ExecuteTime": {
     "end_time": "2021-09-26T20:39:46.672638Z",
     "start_time": "2021-09-26T20:39:46.666437Z"
    }
   },
   "outputs": [
    {
     "name": "stdout",
     "output_type": "stream",
     "text": [
      "[[34 41 48]\n",
      " [12 18 24]\n",
      " [18 24 30]]\n",
      "\n",
      "[[34 41 48]\n",
      " [12 18 24]\n",
      " [18 24 30]]\n"
     ]
    }
   ],
   "source": [
    "# Two different ways!\n",
    "print(A @ B)\n",
    "print()\n",
    "print(A.dot(B))"
   ]
  },
  {
   "cell_type": "markdown",
   "id": "23034053",
   "metadata": {},
   "source": [
    "Matrix inverse"
   ]
  },
  {
   "cell_type": "code",
   "execution_count": 26,
   "id": "1ab4a2bd",
   "metadata": {
    "ExecuteTime": {
     "end_time": "2021-09-26T20:39:51.500158Z",
     "start_time": "2021-09-26T20:39:51.457907Z"
    }
   },
   "outputs": [
    {
     "name": "stdout",
     "output_type": "stream",
     "text": [
      "[[ 0.375 -0.125]\n",
      " [-0.125  0.375]]\n"
     ]
    }
   ],
   "source": [
    "A = np.array([[3, 1], \n",
    "              [1, 3]])\n",
    "A_inv = np.linalg.inv(A)\n",
    "\n",
    "print(A_inv)"
   ]
  },
  {
   "cell_type": "code",
   "execution_count": 27,
   "id": "a261dcb3",
   "metadata": {
    "ExecuteTime": {
     "end_time": "2021-09-26T20:39:53.311665Z",
     "start_time": "2021-09-26T20:39:53.275271Z"
    }
   },
   "outputs": [
    {
     "data": {
      "text/plain": [
       "array([[1., 0.],\n",
       "       [0., 1.]])"
      ]
     },
     "execution_count": 27,
     "metadata": {},
     "output_type": "execute_result"
    }
   ],
   "source": [
    "A @ A_inv"
   ]
  },
  {
   "cell_type": "markdown",
   "id": "c3717fdb",
   "metadata": {},
   "source": [
    "Stacking matrices"
   ]
  },
  {
   "cell_type": "code",
   "execution_count": 28,
   "id": "528e7545",
   "metadata": {
    "ExecuteTime": {
     "end_time": "2021-09-26T20:39:57.068555Z",
     "start_time": "2021-09-26T20:39:57.064601Z"
    }
   },
   "outputs": [],
   "source": [
    "A = np.array([[2, 1, 4], \n",
    "              [5, 0, 1]])\n",
    "B = np.array([[1, 2, 3], \n",
    "              [4, 5, 6]])"
   ]
  },
  {
   "cell_type": "code",
   "execution_count": 29,
   "id": "6d06dc3b",
   "metadata": {
    "ExecuteTime": {
     "end_time": "2021-09-26T20:39:58.144837Z",
     "start_time": "2021-09-26T20:39:58.121314Z"
    }
   },
   "outputs": [
    {
     "data": {
      "text/plain": [
       "array([[2, 1, 4, 1, 2, 3],\n",
       "       [5, 0, 1, 4, 5, 6]])"
      ]
     },
     "execution_count": 29,
     "metadata": {},
     "output_type": "execute_result"
    }
   ],
   "source": [
    "np.hstack([A, B])"
   ]
  },
  {
   "cell_type": "code",
   "execution_count": 30,
   "id": "db49e9e9",
   "metadata": {
    "ExecuteTime": {
     "end_time": "2021-09-26T20:39:59.767335Z",
     "start_time": "2021-09-26T20:39:59.761843Z"
    }
   },
   "outputs": [
    {
     "data": {
      "text/plain": [
       "array([[2, 1, 4],\n",
       "       [5, 0, 1],\n",
       "       [1, 2, 3],\n",
       "       [4, 5, 6]])"
      ]
     },
     "execution_count": 30,
     "metadata": {},
     "output_type": "execute_result"
    }
   ],
   "source": [
    "np.vstack([A, B])"
   ]
  },
  {
   "cell_type": "markdown",
   "id": "4090d6b8",
   "metadata": {},
   "source": [
    "Element-wise functions (e.g. np.log, np.exp, np.sqrt)"
   ]
  },
  {
   "cell_type": "code",
   "execution_count": 31,
   "id": "e0f58813",
   "metadata": {
    "ExecuteTime": {
     "end_time": "2021-09-26T20:40:12.431068Z",
     "start_time": "2021-09-26T20:40:12.424545Z"
    }
   },
   "outputs": [
    {
     "data": {
      "text/plain": [
       "array([[1., 2., 3.],\n",
       "       [4., 5., 6.],\n",
       "       [7., 8., 9.]])"
      ]
     },
     "execution_count": 31,
     "metadata": {},
     "output_type": "execute_result"
    }
   ],
   "source": [
    "A = np.array([[1, 4, 9], \n",
    "              [16, 25, 36], \n",
    "              [49, 64, 81]])\n",
    "\n",
    "np.sqrt(A)"
   ]
  },
  {
   "cell_type": "markdown",
   "id": "0091bee4",
   "metadata": {},
   "source": [
    "Aggregate functions (e.g. np.mean, np.std, np.sum)"
   ]
  },
  {
   "cell_type": "code",
   "execution_count": 32,
   "id": "516b77bc",
   "metadata": {
    "ExecuteTime": {
     "end_time": "2021-09-26T20:40:35.293608Z",
     "start_time": "2021-09-26T20:40:35.280300Z"
    }
   },
   "outputs": [
    {
     "name": "stdout",
     "output_type": "stream",
     "text": [
      "18\n",
      "[6 6 6]\n",
      "[3 6 9]\n"
     ]
    }
   ],
   "source": [
    "A = np.array([[1, 1, 1], \n",
    "              [2, 2, 2], \n",
    "              [3, 3, 3]])\n",
    "\n",
    "print(A.sum())          # Sum of all elements in A\n",
    "print(A.sum(axis=0))    # Sum of each column in A\n",
    "print(A.sum(axis=1))    # Sum of each row in A"
   ]
  },
  {
   "cell_type": "markdown",
   "id": "2f2b5a85",
   "metadata": {},
   "source": [
    "### 4. Solving Systems of Linear Equations"
   ]
  },
  {
   "cell_type": "markdown",
   "id": "56619bc7",
   "metadata": {},
   "source": [
    "Consider the following system of linear equations:\n",
    "\n",
    "$$\n",
    "\\begin{aligned}\n",
    "3a + b &= 5 \\\\\n",
    "a - 5b &= 7\n",
    "\\end{aligned}\n",
    "$$\n",
    "\n",
    "We can rewrite this as the equation $A x = b$, where $A$ and $b$ are defined as follows."
   ]
  },
  {
   "cell_type": "code",
   "execution_count": 33,
   "id": "74a7e869",
   "metadata": {
    "ExecuteTime": {
     "end_time": "2021-09-26T20:41:15.265281Z",
     "start_time": "2021-09-26T20:41:15.261288Z"
    }
   },
   "outputs": [],
   "source": [
    "A = np.array([[3, 1], \n",
    "              [1, -5]])\n",
    "b = np.array([5, 7])"
   ]
  },
  {
   "cell_type": "markdown",
   "id": "2e1f1cf7",
   "metadata": {},
   "source": [
    "Then, we can solve for an exact solution $x$."
   ]
  },
  {
   "cell_type": "code",
   "execution_count": 34,
   "id": "e7efb150",
   "metadata": {
    "ExecuteTime": {
     "end_time": "2021-09-26T20:41:30.415174Z",
     "start_time": "2021-09-26T20:41:30.397698Z"
    }
   },
   "outputs": [
    {
     "data": {
      "text/plain": [
       "array([ 2., -1.])"
      ]
     },
     "execution_count": 34,
     "metadata": {},
     "output_type": "execute_result"
    }
   ],
   "source": [
    "# Find an exact solution x for A x = b\n",
    "x = np.linalg.solve(A, b)\n",
    "x"
   ]
  },
  {
   "cell_type": "markdown",
   "id": "8f6b8594",
   "metadata": {},
   "source": [
    "This is the same as $x = A^{-1} b$. But `np.linalg.solve(A, b)` is the preferred method because it does not explicitly solve for the inverse, which is an expensive operation."
   ]
  },
  {
   "cell_type": "code",
   "execution_count": 35,
   "id": "04550110",
   "metadata": {
    "ExecuteTime": {
     "end_time": "2021-09-26T20:42:04.711236Z",
     "start_time": "2021-09-26T20:42:04.691187Z"
    }
   },
   "outputs": [
    {
     "data": {
      "text/plain": [
       "array([ 2., -1.])"
      ]
     },
     "execution_count": 35,
     "metadata": {},
     "output_type": "execute_result"
    }
   ],
   "source": [
    "x = np.linalg.inv(A) @ b\n",
    "x"
   ]
  },
  {
   "cell_type": "markdown",
   "id": "d3827ba2",
   "metadata": {},
   "source": [
    "What happens when $A$ is not a square matrix? For example, consider the following \n",
    "(overdetermined) system of linear equations:\n",
    "\n",
    "$$\n",
    "\\begin{aligned}\n",
    "3a + b &= 5 \\\\\n",
    "a - 5b &= 7 \\\\\n",
    "a + b &= 0\n",
    "\\end{aligned}\n",
    "$$\n"
   ]
  },
  {
   "cell_type": "code",
   "execution_count": 36,
   "id": "dc885890",
   "metadata": {
    "ExecuteTime": {
     "end_time": "2021-09-26T20:45:46.767183Z",
     "start_time": "2021-09-26T20:45:46.728423Z"
    }
   },
   "outputs": [],
   "source": [
    "A = np.array([[3, 1], \n",
    "              [1, -5], \n",
    "              [1, 1]])\n",
    "b = np.array([5, 7, 0])"
   ]
  },
  {
   "cell_type": "markdown",
   "id": "8f8dd433",
   "metadata": {},
   "source": [
    "We can't use `np.linalg.solve(A, b)` since A is not square, i.e. not invertible."
   ]
  },
  {
   "cell_type": "code",
   "execution_count": 37,
   "id": "83ba899b",
   "metadata": {
    "ExecuteTime": {
     "end_time": "2021-09-26T20:45:55.316275Z",
     "start_time": "2021-09-26T20:45:54.786113Z"
    },
    "scrolled": false
   },
   "outputs": [
    {
     "ename": "LinAlgError",
     "evalue": "Last 2 dimensions of the array must be square",
     "output_type": "error",
     "traceback": [
      "\u001b[0;31m-------------------------------------------------------------------------\u001b[0m",
      "\u001b[0;31mLinAlgError\u001b[0m                             Traceback (most recent call last)",
      "\u001b[0;32m<ipython-input-37-c5dffb571076>\u001b[0m in \u001b[0;36m<module>\u001b[0;34m\u001b[0m\n\u001b[1;32m      1\u001b[0m \u001b[0;31m# Does not work - A not invertible\u001b[0m\u001b[0;34m\u001b[0m\u001b[0;34m\u001b[0m\u001b[0;34m\u001b[0m\u001b[0m\n\u001b[0;32m----> 2\u001b[0;31m \u001b[0mx\u001b[0m \u001b[0;34m=\u001b[0m \u001b[0mnp\u001b[0m\u001b[0;34m.\u001b[0m\u001b[0mlinalg\u001b[0m\u001b[0;34m.\u001b[0m\u001b[0msolve\u001b[0m\u001b[0;34m(\u001b[0m\u001b[0mA\u001b[0m\u001b[0;34m,\u001b[0m \u001b[0mb\u001b[0m\u001b[0;34m)\u001b[0m\u001b[0;34m\u001b[0m\u001b[0;34m\u001b[0m\u001b[0m\n\u001b[0m\u001b[1;32m      3\u001b[0m \u001b[0mx\u001b[0m\u001b[0;34m\u001b[0m\u001b[0;34m\u001b[0m\u001b[0m\n",
      "\u001b[0;32m<__array_function__ internals>\u001b[0m in \u001b[0;36msolve\u001b[0;34m(*args, **kwargs)\u001b[0m\n",
      "\u001b[0;32m/opt/anaconda3/lib/python3.8/site-packages/numpy/linalg/linalg.py\u001b[0m in \u001b[0;36msolve\u001b[0;34m(a, b)\u001b[0m\n\u001b[1;32m    378\u001b[0m     \u001b[0ma\u001b[0m\u001b[0;34m,\u001b[0m \u001b[0m_\u001b[0m \u001b[0;34m=\u001b[0m \u001b[0m_makearray\u001b[0m\u001b[0;34m(\u001b[0m\u001b[0ma\u001b[0m\u001b[0;34m)\u001b[0m\u001b[0;34m\u001b[0m\u001b[0;34m\u001b[0m\u001b[0m\n\u001b[1;32m    379\u001b[0m     \u001b[0m_assert_stacked_2d\u001b[0m\u001b[0;34m(\u001b[0m\u001b[0ma\u001b[0m\u001b[0;34m)\u001b[0m\u001b[0;34m\u001b[0m\u001b[0;34m\u001b[0m\u001b[0m\n\u001b[0;32m--> 380\u001b[0;31m     \u001b[0m_assert_stacked_square\u001b[0m\u001b[0;34m(\u001b[0m\u001b[0ma\u001b[0m\u001b[0;34m)\u001b[0m\u001b[0;34m\u001b[0m\u001b[0;34m\u001b[0m\u001b[0m\n\u001b[0m\u001b[1;32m    381\u001b[0m     \u001b[0mb\u001b[0m\u001b[0;34m,\u001b[0m \u001b[0mwrap\u001b[0m \u001b[0;34m=\u001b[0m \u001b[0m_makearray\u001b[0m\u001b[0;34m(\u001b[0m\u001b[0mb\u001b[0m\u001b[0;34m)\u001b[0m\u001b[0;34m\u001b[0m\u001b[0;34m\u001b[0m\u001b[0m\n\u001b[1;32m    382\u001b[0m     \u001b[0mt\u001b[0m\u001b[0;34m,\u001b[0m \u001b[0mresult_t\u001b[0m \u001b[0;34m=\u001b[0m \u001b[0m_commonType\u001b[0m\u001b[0;34m(\u001b[0m\u001b[0ma\u001b[0m\u001b[0;34m,\u001b[0m \u001b[0mb\u001b[0m\u001b[0;34m)\u001b[0m\u001b[0;34m\u001b[0m\u001b[0;34m\u001b[0m\u001b[0m\n",
      "\u001b[0;32m/opt/anaconda3/lib/python3.8/site-packages/numpy/linalg/linalg.py\u001b[0m in \u001b[0;36m_assert_stacked_square\u001b[0;34m(*arrays)\u001b[0m\n\u001b[1;32m    201\u001b[0m         \u001b[0mm\u001b[0m\u001b[0;34m,\u001b[0m \u001b[0mn\u001b[0m \u001b[0;34m=\u001b[0m \u001b[0ma\u001b[0m\u001b[0;34m.\u001b[0m\u001b[0mshape\u001b[0m\u001b[0;34m[\u001b[0m\u001b[0;34m-\u001b[0m\u001b[0;36m2\u001b[0m\u001b[0;34m:\u001b[0m\u001b[0;34m]\u001b[0m\u001b[0;34m\u001b[0m\u001b[0;34m\u001b[0m\u001b[0m\n\u001b[1;32m    202\u001b[0m         \u001b[0;32mif\u001b[0m \u001b[0mm\u001b[0m \u001b[0;34m!=\u001b[0m \u001b[0mn\u001b[0m\u001b[0;34m:\u001b[0m\u001b[0;34m\u001b[0m\u001b[0;34m\u001b[0m\u001b[0m\n\u001b[0;32m--> 203\u001b[0;31m             \u001b[0;32mraise\u001b[0m \u001b[0mLinAlgError\u001b[0m\u001b[0;34m(\u001b[0m\u001b[0;34m'Last 2 dimensions of the array must be square'\u001b[0m\u001b[0;34m)\u001b[0m\u001b[0;34m\u001b[0m\u001b[0;34m\u001b[0m\u001b[0m\n\u001b[0m\u001b[1;32m    204\u001b[0m \u001b[0;34m\u001b[0m\u001b[0m\n\u001b[1;32m    205\u001b[0m \u001b[0;32mdef\u001b[0m \u001b[0m_assert_finite\u001b[0m\u001b[0;34m(\u001b[0m\u001b[0;34m*\u001b[0m\u001b[0marrays\u001b[0m\u001b[0;34m)\u001b[0m\u001b[0;34m:\u001b[0m\u001b[0;34m\u001b[0m\u001b[0;34m\u001b[0m\u001b[0m\n",
      "\u001b[0;31mLinAlgError\u001b[0m: Last 2 dimensions of the array must be square"
     ]
    }
   ],
   "source": [
    "# Does not work - A not invertible\n",
    "x = np.linalg.solve(A, b)\n",
    "x"
   ]
  },
  {
   "cell_type": "markdown",
   "id": "23d78564",
   "metadata": {},
   "source": [
    "Instead, we can find a least squares approximate solution for $x$."
   ]
  },
  {
   "cell_type": "code",
   "execution_count": 38,
   "id": "401fd348",
   "metadata": {
    "ExecuteTime": {
     "end_time": "2021-09-26T20:46:24.141430Z",
     "start_time": "2021-09-26T20:46:24.078604Z"
    }
   },
   "outputs": [
    {
     "name": "stderr",
     "output_type": "stream",
     "text": [
      "<ipython-input-38-a23de93341b9>:2: FutureWarning: `rcond` parameter will change to the default of machine precision times ``max(M, N)`` where M and N are the input matrix dimensions.\n",
      "To use the future default and silence this warning we advise to pass `rcond=None`, to keep using the old, explicitly pass `rcond=-1`.\n",
      "  x, resid, rank, s = np.linalg.lstsq(A, b)\n"
     ]
    },
    {
     "data": {
      "text/plain": [
       "array([ 1.90540541, -1.04054054])"
      ]
     },
     "execution_count": 38,
     "metadata": {},
     "output_type": "execute_result"
    }
   ],
   "source": [
    "# Find an approximate solution x for A x = b using least squares.\n",
    "x, resid, rank, s = np.linalg.lstsq(A, b)\n",
    "x"
   ]
  },
  {
   "cell_type": "markdown",
   "id": "fb797289",
   "metadata": {},
   "source": [
    "Estimates for $b$ using least squares approx. for $x$."
   ]
  },
  {
   "cell_type": "code",
   "execution_count": 39,
   "id": "64539ae8",
   "metadata": {
    "ExecuteTime": {
     "end_time": "2021-09-26T20:46:27.358904Z",
     "start_time": "2021-09-26T20:46:27.349136Z"
    }
   },
   "outputs": [
    {
     "data": {
      "text/plain": [
       "array([4.67567568, 7.10810811, 0.86486486])"
      ]
     },
     "execution_count": 39,
     "metadata": {},
     "output_type": "execute_result"
    }
   ],
   "source": [
    "A @ x"
   ]
  },
  {
   "cell_type": "markdown",
   "id": "ca67add2",
   "metadata": {},
   "source": [
    "Compare estimates above with the actual $b$."
   ]
  },
  {
   "cell_type": "code",
   "execution_count": 40,
   "id": "c4c9b570",
   "metadata": {
    "ExecuteTime": {
     "end_time": "2021-09-26T20:46:46.939850Z",
     "start_time": "2021-09-26T20:46:46.902921Z"
    }
   },
   "outputs": [
    {
     "data": {
      "text/plain": [
       "array([5, 7, 0])"
      ]
     },
     "execution_count": 40,
     "metadata": {},
     "output_type": "execute_result"
    }
   ],
   "source": [
    "b"
   ]
  },
  {
   "cell_type": "markdown",
   "id": "f6416b70",
   "metadata": {},
   "source": [
    "### 5. Broadcasting"
   ]
  },
  {
   "cell_type": "markdown",
   "id": "a5b8e897",
   "metadata": {},
   "source": [
    "Consider the following matrix $A$."
   ]
  },
  {
   "cell_type": "code",
   "execution_count": 41,
   "id": "a20fa424",
   "metadata": {
    "ExecuteTime": {
     "end_time": "2021-09-26T20:46:53.571587Z",
     "start_time": "2021-09-26T20:46:53.565149Z"
    }
   },
   "outputs": [
    {
     "name": "stdout",
     "output_type": "stream",
     "text": [
      "[[1 2 3]\n",
      " [4 5 6]]\n"
     ]
    }
   ],
   "source": [
    "A = np.array([[1, 2, 3], \n",
    "              [4, 5, 6]])\n",
    "\n",
    "print(A)"
   ]
  },
  {
   "cell_type": "markdown",
   "id": "b47b2fdb",
   "metadata": {},
   "source": [
    "Imagine that you want to add 2 to each element of the matrix above. One way to do it is the following."
   ]
  },
  {
   "cell_type": "code",
   "execution_count": 42,
   "id": "4c7f0c40",
   "metadata": {
    "ExecuteTime": {
     "end_time": "2021-09-26T20:47:00.949203Z",
     "start_time": "2021-09-26T20:47:00.940302Z"
    }
   },
   "outputs": [
    {
     "data": {
      "text/plain": [
       "array([[3, 4, 5],\n",
       "       [6, 7, 8]])"
      ]
     },
     "execution_count": 42,
     "metadata": {},
     "output_type": "execute_result"
    }
   ],
   "source": [
    "B = np.array([[2, 2, 2], \n",
    "              [2, 2, 2]])\n",
    "\n",
    "A + B"
   ]
  },
  {
   "cell_type": "markdown",
   "id": "2ebcff2e",
   "metadata": {},
   "source": [
    "However, a cleaner way to write this would be `A + 2`. This is a NumPy feature known as **broadcasting**, which automatically resizes arrays in the most natural way to perform an operation."
   ]
  },
  {
   "cell_type": "code",
   "execution_count": 43,
   "id": "c599a590",
   "metadata": {
    "ExecuteTime": {
     "end_time": "2021-09-26T20:47:38.402731Z",
     "start_time": "2021-09-26T20:47:38.379123Z"
    }
   },
   "outputs": [
    {
     "data": {
      "text/plain": [
       "array([[3, 4, 5],\n",
       "       [6, 7, 8]])"
      ]
     },
     "execution_count": 43,
     "metadata": {},
     "output_type": "execute_result"
    }
   ],
   "source": [
    "A + 2"
   ]
  },
  {
   "cell_type": "markdown",
   "id": "13c3d855",
   "metadata": {},
   "source": [
    "Broadcasting can be applied in interesting ways. Here, we subtract off the mean from each column of A. This works even though A has dimension (2, 3) and the means have dimension (3,)."
   ]
  },
  {
   "cell_type": "code",
   "execution_count": 45,
   "id": "68245356",
   "metadata": {
    "ExecuteTime": {
     "end_time": "2021-09-26T20:47:54.224664Z",
     "start_time": "2021-09-26T20:47:54.208628Z"
    }
   },
   "outputs": [
    {
     "data": {
      "text/plain": [
       "array([2.5, 3.5, 4.5])"
      ]
     },
     "execution_count": 45,
     "metadata": {},
     "output_type": "execute_result"
    }
   ],
   "source": [
    "means = A.mean(axis=0)\n",
    "means"
   ]
  },
  {
   "cell_type": "code",
   "execution_count": 47,
   "id": "e89d5fcd",
   "metadata": {
    "ExecuteTime": {
     "end_time": "2021-09-26T20:48:37.488276Z",
     "start_time": "2021-09-26T20:48:37.481214Z"
    }
   },
   "outputs": [
    {
     "name": "stdout",
     "output_type": "stream",
     "text": [
      "Dimension of A: (2, 3)\n",
      "Dimension of means: (3,)\n"
     ]
    },
    {
     "data": {
      "text/plain": [
       "array([[-1.5, -1.5, -1.5],\n",
       "       [ 1.5,  1.5,  1.5]])"
      ]
     },
     "execution_count": 47,
     "metadata": {},
     "output_type": "execute_result"
    }
   ],
   "source": [
    "print(\"Dimension of A:\", A.shape)\n",
    "print(\"Dimension of means:\", means.shape)\n",
    "\n",
    "A - means"
   ]
  },
  {
   "cell_type": "markdown",
   "id": "86e31093",
   "metadata": {},
   "source": [
    "### 6. Vectorization"
   ]
  },
  {
   "cell_type": "markdown",
   "id": "c240858a",
   "metadata": {},
   "source": [
    "One of the key principles when using NumPy is to *vectorize your code*. Vectorizing your code means to favor matrix/vector operations over for-loops. Vectorizing code has two main benefits:\n",
    "- Vectorized code uses optimized NumPy operations, which makes it faster.\n",
    "- Vectorized code is cleaner and easier to read than code with for-loops.\n",
    "\n",
    "Next, we consider two examples of writing vectorized code."
   ]
  },
  {
   "cell_type": "markdown",
   "id": "31bce8ea",
   "metadata": {},
   "source": [
    "### Example 1: Standardization"
   ]
  },
  {
   "cell_type": "markdown",
   "id": "637da7bf",
   "metadata": {},
   "source": [
    "Transform the matrix $X$ so that each column is scaled to have a mean of 0 and variance of 1."
   ]
  },
  {
   "cell_type": "code",
   "execution_count": 48,
   "id": "1b09517f",
   "metadata": {
    "ExecuteTime": {
     "end_time": "2021-09-26T20:49:54.863356Z",
     "start_time": "2021-09-26T20:49:54.548371Z"
    }
   },
   "outputs": [
    {
     "name": "stdout",
     "output_type": "stream",
     "text": [
      "(1000000, 5)\n"
     ]
    },
    {
     "data": {
      "text/plain": [
       "array([[-1.50769348, 15.66884721,  4.50054366,  9.13785896,  5.61070791],\n",
       "       [10.21106873, 12.91407607,  4.49690411, 15.72361855, 14.5079536 ],\n",
       "       [12.51247169, 14.50427975,  6.5813607 ,  9.38554887,  5.32115283],\n",
       "       ...,\n",
       "       [15.80126225, 14.89656129,  5.04754566,  9.62357914,  8.44210443],\n",
       "       [13.92708984,  8.16450725,  8.66912362,  6.2033972 , 10.89750732],\n",
       "       [ 6.23914075,  4.21336079, 14.02342302,  8.01400123, 10.51294067]])"
      ]
     },
     "execution_count": 48,
     "metadata": {},
     "output_type": "execute_result"
    }
   ],
   "source": [
    "X = np.random.normal(loc=10, scale=5, size=(1000000, 5))\n",
    "print(X.shape)\n",
    "X"
   ]
  },
  {
   "cell_type": "markdown",
   "id": "b3c4d255",
   "metadata": {},
   "source": [
    "#### Method 1: Using for-loops (bad!)"
   ]
  },
  {
   "cell_type": "code",
   "execution_count": 49,
   "id": "2a2b7173",
   "metadata": {
    "ExecuteTime": {
     "end_time": "2021-09-26T20:50:40.886734Z",
     "start_time": "2021-09-26T20:50:38.137086Z"
    }
   },
   "outputs": [],
   "source": [
    "X_ = []\n",
    "\n",
    "for col in X.T:\n",
    "    col_mean = col.mean()\n",
    "    col_std_dev = col.std()\n",
    "    col_standardized = []\n",
    "    for elem in col:\n",
    "        elem_standardized = (elem - col_mean) / col_std_dev\n",
    "        col_standardized.append(elem_standardized)\n",
    "    X_.append(col_standardized)\n",
    "    \n",
    "X_ = np.array(X_).T"
   ]
  },
  {
   "cell_type": "code",
   "execution_count": 50,
   "id": "10469c3d",
   "metadata": {
    "ExecuteTime": {
     "end_time": "2021-09-26T20:50:58.208291Z",
     "start_time": "2021-09-26T20:50:58.198859Z"
    }
   },
   "outputs": [
    {
     "data": {
      "text/plain": [
       "array([[-2.30493741,  1.13471421, -1.09909553, -0.17265984, -0.87570179],\n",
       "       [ 0.04112746,  0.58322643, -1.09982304,  1.14553058,  0.90313329],\n",
       "       [ 0.50186218,  0.90157516, -0.68316168, -0.1230828 , -0.93359282],\n",
       "       ...,\n",
       "       [ 1.16026926,  0.98010745, -0.98975548, -0.07543921, -0.3096179 ],\n",
       "       [ 0.78506495, -0.36760723, -0.26583942, -0.76001492,  0.18129322],\n",
       "       [-0.7540419 , -1.15860178,  0.80442976, -0.3976086 ,  0.10440643]])"
      ]
     },
     "execution_count": 50,
     "metadata": {},
     "output_type": "execute_result"
    }
   ],
   "source": [
    "X_"
   ]
  },
  {
   "cell_type": "code",
   "execution_count": 51,
   "id": "f2320e0d",
   "metadata": {
    "ExecuteTime": {
     "end_time": "2021-09-26T20:51:00.599164Z",
     "start_time": "2021-09-26T20:51:00.576010Z"
    }
   },
   "outputs": [
    {
     "data": {
      "text/plain": [
       "array([-5.45263390e-16, -9.43796152e-16, -2.13606910e-16, -6.23774810e-16,\n",
       "        9.32317334e-16])"
      ]
     },
     "execution_count": 51,
     "metadata": {},
     "output_type": "execute_result"
    }
   ],
   "source": [
    "X_.mean(axis=0)"
   ]
  },
  {
   "cell_type": "code",
   "execution_count": 52,
   "id": "72e582ef",
   "metadata": {
    "ExecuteTime": {
     "end_time": "2021-09-26T20:51:02.977697Z",
     "start_time": "2021-09-26T20:51:02.928367Z"
    }
   },
   "outputs": [
    {
     "data": {
      "text/plain": [
       "array([1., 1., 1., 1., 1.])"
      ]
     },
     "execution_count": 52,
     "metadata": {},
     "output_type": "execute_result"
    }
   ],
   "source": [
    "X_.std(axis=0)"
   ]
  },
  {
   "cell_type": "markdown",
   "id": "b3bda9da",
   "metadata": {},
   "source": [
    "#### Method 2: Vectorized (good!)"
   ]
  },
  {
   "cell_type": "code",
   "execution_count": 53,
   "id": "8c85017d",
   "metadata": {
    "ExecuteTime": {
     "end_time": "2021-09-26T20:51:16.320794Z",
     "start_time": "2021-09-26T20:51:16.135928Z"
    }
   },
   "outputs": [],
   "source": [
    "means = X.mean(axis=0)\n",
    "std_devs = X.std(axis=0)\n",
    "X_ = (X - means) / std_devs"
   ]
  },
  {
   "cell_type": "code",
   "execution_count": 54,
   "id": "38331280",
   "metadata": {
    "ExecuteTime": {
     "end_time": "2021-09-26T20:51:19.836967Z",
     "start_time": "2021-09-26T20:51:19.808563Z"
    }
   },
   "outputs": [
    {
     "data": {
      "text/plain": [
       "array([-4.80382056e-15, -9.83738246e-15, -4.92025274e-14,  9.93416408e-14,\n",
       "        1.24516596e-13])"
      ]
     },
     "execution_count": 54,
     "metadata": {},
     "output_type": "execute_result"
    }
   ],
   "source": [
    "X_.mean(axis=0)"
   ]
  },
  {
   "cell_type": "code",
   "execution_count": 55,
   "id": "8df3777f",
   "metadata": {
    "ExecuteTime": {
     "end_time": "2021-09-26T20:51:25.296421Z",
     "start_time": "2021-09-26T20:51:25.190553Z"
    }
   },
   "outputs": [
    {
     "data": {
      "text/plain": [
       "array([1., 1., 1., 1., 1.])"
      ]
     },
     "execution_count": 55,
     "metadata": {},
     "output_type": "execute_result"
    }
   ],
   "source": [
    "X_.std(axis=0)"
   ]
  },
  {
   "cell_type": "markdown",
   "id": "20cdd3ee",
   "metadata": {},
   "source": [
    "### Example 2: Calculating distances"
   ]
  },
  {
   "cell_type": "markdown",
   "id": "544e3e56",
   "metadata": {},
   "source": [
    "Consider a matrix $X$ in which each row is a data point. Compute a vector of distances $d$ between a query point $q$ and each row in $X$."
   ]
  },
  {
   "cell_type": "code",
   "execution_count": 56,
   "id": "c55fbf0f",
   "metadata": {
    "ExecuteTime": {
     "end_time": "2021-09-26T20:53:05.053134Z",
     "start_time": "2021-09-26T20:53:04.806313Z"
    }
   },
   "outputs": [
    {
     "name": "stdout",
     "output_type": "stream",
     "text": [
      "(1000000, 5)\n",
      "X: [[ 9.30833775 10.42248806 10.52938601 11.05451163 18.644658  ]\n",
      " [ 5.01984283 11.96819984  7.72789213 21.53361797  9.10897265]\n",
      " [ 1.9297422  -0.19131274 11.3580658   4.73502151  8.9277174 ]\n",
      " ...\n",
      " [ 6.46975441  6.51146122  7.17997652 13.50106152 -3.29922082]\n",
      " [17.32224476  4.87503224 15.32022013 12.5488937  16.92537832]\n",
      " [ 7.33168374  5.30299988 15.72761558  8.72139542  3.02936306]]\n",
      "\n",
      "q: [ 6.12940979 10.35748247 13.07030433  1.13200145 10.46370174]\n"
     ]
    }
   ],
   "source": [
    "X = np.random.normal(loc=10, scale=5, size=(1000000, 5))\n",
    "\n",
    "print(X.shape)\n",
    "print(\"X:\", X)\n",
    "\n",
    "q = np.random.normal(loc=10, scale=5, size=(5))\n",
    "print()\n",
    "print(\"q:\", q)"
   ]
  },
  {
   "cell_type": "markdown",
   "id": "eef11921",
   "metadata": {},
   "source": [
    "#### Method 1: Using for-loops (bad!)\n",
    "\n",
    "This code works, but it's ugly and takes a long time to run."
   ]
  },
  {
   "cell_type": "code",
   "execution_count": 57,
   "id": "f8cbabc6",
   "metadata": {
    "ExecuteTime": {
     "end_time": "2021-09-26T20:54:03.259310Z",
     "start_time": "2021-09-26T20:53:54.776486Z"
    }
   },
   "outputs": [
    {
     "name": "stdout",
     "output_type": "stream",
     "text": [
      "(1000000,)\n"
     ]
    },
    {
     "data": {
      "text/plain": [
       "array([13.48889647, 21.22329298, 12.13206704, ..., 19.79937777,\n",
       "       18.23451752, 12.12117372])"
      ]
     },
     "execution_count": 57,
     "metadata": {},
     "output_type": "execute_result"
    }
   ],
   "source": [
    "d = []\n",
    "\n",
    "for x in X:\n",
    "    sum_squared_diffs = 0\n",
    "    for i in range(5):\n",
    "        squared_diff = (x[i] - q[i]) ** 2\n",
    "        sum_squared_diffs += squared_diff\n",
    "    distance_x_to_q = sum_squared_diffs ** (1/2)\n",
    "    d.append(distance_x_to_q)\n",
    "\n",
    "d = np.array(d)\n",
    "print(d.shape)\n",
    "d"
   ]
  },
  {
   "cell_type": "markdown",
   "id": "3821c3fd",
   "metadata": {},
   "source": [
    "#### Method 2: Vectorized (good!)\n",
    "\n",
    "We can write vectorized code that's clean and fast!"
   ]
  },
  {
   "cell_type": "code",
   "execution_count": 63,
   "id": "a86fa27b",
   "metadata": {
    "ExecuteTime": {
     "end_time": "2021-09-26T20:57:03.598352Z",
     "start_time": "2021-09-26T20:57:03.529367Z"
    }
   },
   "outputs": [
    {
     "name": "stdout",
     "output_type": "stream",
     "text": [
      "(1000000,)\n"
     ]
    },
    {
     "data": {
      "text/plain": [
       "array([13.48889647, 21.22329298, 12.13206704, ..., 19.79937777,\n",
       "       18.23451752, 12.12117372])"
      ]
     },
     "execution_count": 63,
     "metadata": {},
     "output_type": "execute_result"
    }
   ],
   "source": [
    "d = ((X - q) ** 2).sum(axis=1) ** (1/2)\n",
    "\n",
    "print(d.shape)\n",
    "d"
   ]
  },
  {
   "cell_type": "code",
   "execution_count": null,
   "id": "8103f964",
   "metadata": {},
   "outputs": [],
   "source": []
  }
 ],
 "metadata": {
  "kernelspec": {
   "display_name": "Python 3",
   "language": "python",
   "name": "python3"
  },
  "language_info": {
   "codemirror_mode": {
    "name": "ipython",
    "version": 3
   },
   "file_extension": ".py",
   "mimetype": "text/x-python",
   "name": "python",
   "nbconvert_exporter": "python",
   "pygments_lexer": "ipython3",
   "version": "3.8.8"
  }
 },
 "nbformat": 4,
 "nbformat_minor": 5
}
